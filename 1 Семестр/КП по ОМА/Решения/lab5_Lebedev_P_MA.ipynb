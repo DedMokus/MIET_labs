{
 "cells": [
  {
   "cell_type": "code",
   "execution_count": 8,
   "id": "8737d1ac-5089-4779-9e70-97240e5d91f1",
   "metadata": {},
   "outputs": [],
   "source": [
    "import numpy as np\n",
    "import matplotlib.pyplot as plt\n",
    "import math\t\n",
    "import sympy as sp\n",
    "from matplotlib import cm\n",
    "from sympy.abc import x,y,z,alpha,beta,pi,n"
   ]
  },
  {
   "cell_type": "markdown",
   "id": "2de63afb-191b-48d8-9a67-fc30eb45aaf5",
   "metadata": {},
   "source": [
    "5.1"
   ]
  },
  {
   "cell_type": "code",
   "execution_count": 2,
   "id": "fecbe0cc-77c6-4305-9535-2c2de4504d5b",
   "metadata": {},
   "outputs": [
    {
     "name": "stdout",
     "output_type": "stream",
     "text": [
      "Variable   Type      Data/Info\n",
      "------------------------------\n",
      "alpha      Symbol    alpha\n",
      "beta       Symbol    beta\n",
      "cm         module    <module 'matplotlib.cm' f<...>ages\\\\matplotlib\\\\cm.py'>\n",
      "math       module    <module 'math' (built-in)>\n",
      "np         module    <module 'numpy' from 'C:\\<...>ges\\\\numpy\\\\__init__.py'>\n",
      "pi         Symbol    pi\n",
      "plt        module    <module 'matplotlib.pyplo<...>\\\\matplotlib\\\\pyplot.py'>\n",
      "sp         module    <module 'sympy' from 'C:\\<...>ges\\\\sympy\\\\__init__.py'>\n",
      "x          Symbol    x\n",
      "y          Symbol    y\n",
      "z          Symbol    z\n"
     ]
    }
   ],
   "source": [
    "x = sp.Symbol('x')\n",
    "%whos\n"
   ]
  },
  {
   "cell_type": "markdown",
   "id": "c44ddf13-78aa-4567-8076-2ce356b53681",
   "metadata": {},
   "source": [
    "5.2"
   ]
  },
  {
   "cell_type": "code",
   "execution_count": 3,
   "id": "5c74a33f-01a9-413c-8fb0-d5071693804b",
   "metadata": {},
   "outputs": [
    {
     "name": "stdout",
     "output_type": "stream",
     "text": [
      "[0, -1, 0, 1, 0, -1, 0, 1, 0, -1]\n",
      "[6.123233995736766e-17, -1.0, -1.8369701987210297e-16, 1.0, 3.061616997868383e\n",
      "-16, -1.0, -4.286263797015736e-16, 1.0, 5.51091059616309e-16, -1.0]\n"
     ]
    }
   ],
   "source": [
    "a = [sp.cos(sp.pi*i/2) for i in range(1,11)]\n",
    "sp.pprint(a)\n",
    "a1 = [np.cos(np.pi*i/2) for i in range(1,11)]\n",
    "sp.pprint(a1)"
   ]
  },
  {
   "cell_type": "markdown",
   "id": "d8300204-c2e5-499f-8559-dc804bb9320d",
   "metadata": {},
   "source": [
    "5.3"
   ]
  },
  {
   "cell_type": "code",
   "execution_count": 4,
   "id": "01207ee3-7898-4a13-87ee-01d1ea422ab0",
   "metadata": {},
   "outputs": [
    {
     "name": "stdout",
     "output_type": "stream",
     "text": [
      " 7      2    \n",
      "x  + 3⋅x  - 4\n",
      "─────────────\n",
      "    x - 1    \n",
      "\n",
      " after simplify = x**6 + x**5 + x**4 + x**3 + x**2 + 4*x + 4\n"
     ]
    }
   ],
   "source": [
    "v = (x**7+3*x**2 -4)/(x - 1)\n",
    "sp.pprint(v)\n",
    "print('\\n after simplify = '+str(sp.factor(v)))\n",
    "# \\n означает перевод на новую строку"
   ]
  },
  {
   "cell_type": "markdown",
   "id": "e049fa0e-4a1e-4501-afa2-e1e5ac89900d",
   "metadata": {},
   "source": [
    "5.4"
   ]
  },
  {
   "cell_type": "code",
   "execution_count": 5,
   "id": "51e2ab0c-0a98-44bb-b6ac-635cbbac4b2c",
   "metadata": {},
   "outputs": [
    {
     "name": "stdout",
     "output_type": "stream",
     "text": [
      " 4    \n",
      "x  + 4\n",
      "\n",
      " after simplify = (x**2 - 2*x + 2)*(x**2 + 2*x + 2)\n",
      " 7    \n",
      "x  + 1\n",
      "\n",
      " after simplify = (x + 1)*(x**6 - x**5 + x**4 - x**3 + x**2 - x + 1)\n",
      "   3    2          2      3\n",
      "2⋅x  + x ⋅y - 5⋅x⋅y  + 2⋅y \n",
      "\n",
      " after simplify = (x - y)*(x + 2*y)*(2*x - y)\n"
     ]
    }
   ],
   "source": [
    "v1 = x**4 + 4\n",
    "v2 = x**7 + 1\n",
    "v3 = 2*x**3 +x**2*y - 5*x*y**2 + 2*y**3\n",
    "sp.pprint(v1)\n",
    "print('\\n after simplify = '+str(sp.factor(v1)))\n",
    "sp.pprint(v2)\n",
    "print('\\n after simplify = '+str(sp.factor(v2)))\n",
    "sp.pprint(v3)\n",
    "print('\\n after simplify = '+str(sp.factor(v3)))"
   ]
  },
  {
   "cell_type": "markdown",
   "id": "9c144e33-7de5-4371-bf91-ca9b6f454dce",
   "metadata": {},
   "source": [
    "5.5"
   ]
  },
  {
   "cell_type": "code",
   "execution_count": 52,
   "id": "a80c3a93-f057-4606-aaa0-d1cd97d61405",
   "metadata": {},
   "outputs": [
    {
     "name": "stdout",
     "output_type": "stream",
     "text": [
      "(0.81773, ∞)\n"
     ]
    }
   ],
   "source": [
    "a5 = sp.solve_univariate_inequality(x**3 + 3*x>3,x,relational=False)\n",
    "\n",
    "a5 = sp.N(a5,5)\n",
    "sp.pprint(a5)"
   ]
  },
  {
   "cell_type": "markdown",
   "id": "84380a25-b273-4766-b625-2007de008e1f",
   "metadata": {},
   "source": [
    "5.6"
   ]
  },
  {
   "cell_type": "code",
   "execution_count": 10,
   "id": "920245f5-5be2-447d-8f6c-fb624488dd14",
   "metadata": {},
   "outputs": [
    {
     "data": {
      "text/latex": [
       "$\\displaystyle \\left(7.46321168040309, \\infty\\right)$"
      ],
      "text/plain": [
       "Interval.open(7.46321168040309, oo)"
      ]
     },
     "metadata": {},
     "output_type": "display_data"
    },
    {
     "data": {
      "text/latex": [
       "$\\displaystyle \\left(22.8233947035835, \\infty\\right)$"
      ],
      "text/plain": [
       "Interval.open(22.8233947035835, oo)"
      ]
     },
     "metadata": {},
     "output_type": "display_data"
    },
    {
     "data": {
      "text/latex": [
       "$\\displaystyle \\left(0, 0.00499993750859309\\right) \\cup \\left(50.0399321945156, \\infty\\right)$"
      ],
      "text/plain": [
       "Union(Interval.open(0, 0.00499993750859309), Interval.open(50.0399321945156, oo))"
      ]
     },
     "metadata": {},
     "output_type": "display_data"
    },
    {
     "data": {
      "text/latex": [
       "$\\displaystyle \\left(0, 0.000499999937500086\\right) \\cup \\left(500.003999932002, \\infty\\right)$"
      ],
      "text/plain": [
       "Union(Interval.open(0, 0.000499999937500086), Interval.open(500.003999932002, oo))"
      ]
     },
     "metadata": {},
     "output_type": "display_data"
    },
    {
     "data": {
      "image/png": "[encoded data removed]",
      "text/plain": [
       "<Figure size 432x288 with 1 Axes>"
      ]
     },
     "metadata": {
      "needs_background": "light"
     },
     "output_type": "display_data"
    },
    {
     "data": {
      "image/png": "[encoded data removed]",
      "text/plain": [
       "<Figure size 432x288 with 1 Axes>"
      ]
     },
     "metadata": {
      "needs_background": "light"
     },
     "output_type": "display_data"
    },
    {
     "data": {
      "image/png": "[encoded data removed]",
      "text/plain": [
       "<Figure size 432x288 with 1 Axes>"
      ]
     },
     "metadata": {
      "needs_background": "light"
     },
     "output_type": "display_data"
    },
    {
     "data": {
      "image/png": "[encoded data removed]",
      "text/plain": [
       "<Figure size 432x288 with 1 Axes>"
      ]
     },
     "metadata": {
      "needs_background": "light"
     },
     "output_type": "display_data"
    }
   ],
   "source": [
    "def script(xn,n0,a,epsilon):\n",
    "    ns = np.arange(n0-2.,n0+10.)\n",
    "    l = sp.lambdify(n,xn)\n",
    "    plt.grid(True)\n",
    "    plt.plot(ns,l(ns),'r')\n",
    "    ys = np.empty(len(ns))\n",
    "    ys.fill(a - epsilon)\n",
    "    plt.plot(ns,ys,'g')\n",
    "    ys.fill(a + epsilon)\n",
    "    plt.plot(ns,ys,'g')\n",
    "    plt.show()\n",
    "    \n",
    "A = (n**3 - 1) / (2*n**3 + 2*n)\n",
    "B = (n**3 + 2*n) / (2*n**4 + 1)\n",
    "\n",
    "def print_no(xn,a,epsilon):\n",
    "    st_n = sp.solve_univariate_inequality(sp.Abs(xn-a) < epsilon,n,relational=False)\n",
    "    st_n = sp.Intersection(st_n, sp.solve_univariate_inequality(n > 0,n,relational=False))\n",
    "    display(st_n)\n",
    "\n",
    "limA = 1/2\n",
    "limB = 0\n",
    "\n",
    "print_no(A,limA,0.01)\n",
    "print_no(A,limA,0.001)\n",
    "print_no(B,limB,0.01)\n",
    "print_no(B,limB,0.001)\n",
    "\n",
    "script(A,7,limA,0.01)\n",
    "script(A,22,limA,0.001)\n",
    "script(B,50,limB,0.01)\n",
    "script(B,500,limB,0.001)"
   ]
  },
  {
   "cell_type": "markdown",
   "id": "6beec6c4-31ea-4171-80cf-38fb1cfb4c08",
   "metadata": {},
   "source": [
    "C1"
   ]
  },
  {
   "cell_type": "code",
   "execution_count": 53,
   "id": "750203d2-90b8-4c8b-a75c-6142476f1c12",
   "metadata": {},
   "outputs": [
    {
     "name": "stdout",
     "output_type": "stream",
     "text": [
      "Точно:  ((-1.87938524157182 < x) & (x < 0.347296355333861)) | ((1.53208888623796 < x) & (x < oo))\n",
      "Приближенно:  ((x < oo) & (CRootOf(x**3 - 3*x + 1, 2) < x)) | ((x < CRootOf(x**3 - 3*x + 1, 1)) & (CRootOf(x**3 - 3*x + 1, 0) < x))\n"
     ]
    }
   ],
   "source": [
    "ac1 = sp.solve_univariate_inequality(x**3 - 3.0*x + 1.0 > 0.0,x)\n",
    "print('Точно: ',ac1)\n",
    "ac2 = sp.solve(x**3 - 3*x + 1 > 0)\n",
    "print('Приближенно: ',ac2)\n"
   ]
  },
  {
   "cell_type": "markdown",
   "id": "4a7ef115-1150-4d2e-8b58-d2681f84b870",
   "metadata": {},
   "source": [
    "C2"
   ]
  },
  {
   "cell_type": "code",
   "execution_count": 78,
   "id": "09cc3bfc-31d5-493f-b305-953a0c407af8",
   "metadata": {},
   "outputs": [
    {
     "data": {
      "image/png": "[encoded data removed]",
      "text/plain": [
       "<Figure size 432x288 with 1 Axes>"
      ]
     },
     "metadata": {
      "needs_background": "light"
     },
     "output_type": "display_data"
    }
   ],
   "source": [
    "def script(xn,n0,a,epsilon):\n",
    "    ns = np.arange(n0-2.,n0+10.)\n",
    "    l = sp.lambdify(n,xn)\n",
    "    plt.grid(True)\n",
    "    plt.plot(ns,l(ns),'r')\n",
    "    ys = np.empty(len(ns))\n",
    "    ys.fill(a - epsilon)\n",
    "    plt.plot(ns,ys,'g')\n",
    "    ys.fill(a + epsilon)\n",
    "    plt.plot(ns,ys,'g')\n",
    "    plt.show()\n",
    "    \n",
    "A = (2*n**5 + 2*n**4 + 3) / (n**5 - 5*n - 10000)\n",
    "B = sp.sqrt(2*n**5 + 3) / sp.sqrt(n**5 - 5)\n",
    "C = sp.cbrt(n**3 + n**2) - sp.cbrt(n**3 - n**2)\n",
    "\n",
    "def print_no(xn,a,epsilon):\n",
    "    st_n = sp.solve_univariate_inequality(sp.Abs(xn-a) < epsilon,n,relational=False)\n",
    "    st_n = sp.Intersection(st_n, sp.solve_univariate_inequality(n > 0,n,relational=False))\n",
    "    display(st_n)\n",
    "    \n",
    "def print_nor(xn,a,epsilon):\n",
    "    st_n = sp.solve(sp.Abs(xn-a) < epsilon)\n",
    "    st_n = sp.Intersection(st_n, sp.solve_univariate_inequality(n > 0,n,relational=False))\n",
    "    display(st_n)\n",
    "\n",
    "limA = 2\n",
    "limB = sp.sqrt(2)\n",
    "limC = 2/3\n",
    "\n",
    "#print_no(A,limA,0.01)\n",
    "#print_no(A,limA,0.001)\n",
    "#print_no(B,limB,0.01)\n",
    "#print_no(B,limB,0.001)\n",
    "#print_nor(C,limC,0.01)\n",
    "#print_nor(C,limC,0.001)\n",
    "\n",
    "#script(A,200,limA,0.01)\n",
    "#script(A,2000,limA,0.001)\n",
    "#script(B,3.41,limB,0.01)\n",
    "#script(B,5.40,limB,0.001)\n",
    "script(C,3.58,limC,0.01)\n",
    "script(C,500,limC,0.001)"
   ]
  },
  {
   "cell_type": "code",
   "execution_count": 56,
   "id": "ee21f77d-36f6-49c4-a8d6-da598037b76e",
   "metadata": {},
   "outputs": [
    {
     "data": {
      "text/latex": [
       "$\\displaystyle \\left(-\\infty, -2\\right] \\cup \\left[2, \\infty\\right)$"
      ],
      "text/plain": [
       "Union(Interval(-oo, -2), Interval(2, oo))"
      ]
     },
     "execution_count": 71,
     "metadata": {},
     "output_type": "execute_result"
    }
   ],
   "source": []
  },
  {
   "cell_type": "code",
   "execution_count": 83,
   "id": "ecf1fc8d-fa84-4aca-b2af-4ae5541d244d",
   "metadata": {},
   "outputs": [
    {
     "ename": "ValueError",
     "evalue": "f(a) and f(b) must have different signs",
     "output_type": "error",
     "traceback": [
      "\u001b[1;31m---------------------------------------------------------------------------\u001b[0m",
      "\u001b[1;31mValueError\u001b[0m                                Traceback (most recent call last)",
      "Input \u001b[1;32mIn [83]\u001b[0m, in \u001b[0;36m<cell line: 8>\u001b[1;34m()\u001b[0m\n\u001b[0;32m      6\u001b[0m \u001b[38;5;28;01mfrom\u001b[39;00m \u001b[38;5;21;01mscipy\u001b[39;00m\u001b[38;5;21;01m.\u001b[39;00m\u001b[38;5;21;01moptimize\u001b[39;00m \u001b[38;5;28;01mimport\u001b[39;00m bisect\n\u001b[0;32m      7\u001b[0m func \u001b[38;5;241m=\u001b[39m sp\u001b[38;5;241m.\u001b[39mlambdify([n], sp\u001b[38;5;241m.\u001b[39mAbs(xn\u001b[38;5;241m-\u001b[39ma) \u001b[38;5;241m-\u001b[39m epsilon)\n\u001b[1;32m----> 8\u001b[0m \u001b[43mbisect\u001b[49m\u001b[43m(\u001b[49m\u001b[43mfunc\u001b[49m\u001b[43m,\u001b[49m\u001b[43m \u001b[49m\u001b[38;5;241;43m1\u001b[39;49m\u001b[43m,\u001b[49m\u001b[43m \u001b[49m\u001b[38;5;241;43m5\u001b[39;49m\u001b[43m)\u001b[49m\n",
      "File \u001b[1;32mC:\\Programs\\Anaconda3\\lib\\site-packages\\scipy\\optimize\\zeros.py:549\u001b[0m, in \u001b[0;36mbisect\u001b[1;34m(f, a, b, args, xtol, rtol, maxiter, full_output, disp)\u001b[0m\n\u001b[0;32m    547\u001b[0m \u001b[38;5;28;01mif\u001b[39;00m rtol \u001b[38;5;241m<\u001b[39m _rtol:\n\u001b[0;32m    548\u001b[0m     \u001b[38;5;28;01mraise\u001b[39;00m \u001b[38;5;167;01mValueError\u001b[39;00m(\u001b[38;5;124m\"\u001b[39m\u001b[38;5;124mrtol too small (\u001b[39m\u001b[38;5;132;01m%g\u001b[39;00m\u001b[38;5;124m < \u001b[39m\u001b[38;5;132;01m%g\u001b[39;00m\u001b[38;5;124m)\u001b[39m\u001b[38;5;124m\"\u001b[39m \u001b[38;5;241m%\u001b[39m (rtol, _rtol))\n\u001b[1;32m--> 549\u001b[0m r \u001b[38;5;241m=\u001b[39m \u001b[43m_zeros\u001b[49m\u001b[38;5;241;43m.\u001b[39;49m\u001b[43m_bisect\u001b[49m\u001b[43m(\u001b[49m\u001b[43mf\u001b[49m\u001b[43m,\u001b[49m\u001b[43m \u001b[49m\u001b[43ma\u001b[49m\u001b[43m,\u001b[49m\u001b[43m \u001b[49m\u001b[43mb\u001b[49m\u001b[43m,\u001b[49m\u001b[43m \u001b[49m\u001b[43mxtol\u001b[49m\u001b[43m,\u001b[49m\u001b[43m \u001b[49m\u001b[43mrtol\u001b[49m\u001b[43m,\u001b[49m\u001b[43m \u001b[49m\u001b[43mmaxiter\u001b[49m\u001b[43m,\u001b[49m\u001b[43m \u001b[49m\u001b[43margs\u001b[49m\u001b[43m,\u001b[49m\u001b[43m \u001b[49m\u001b[43mfull_output\u001b[49m\u001b[43m,\u001b[49m\u001b[43m \u001b[49m\u001b[43mdisp\u001b[49m\u001b[43m)\u001b[49m\n\u001b[0;32m    550\u001b[0m \u001b[38;5;28;01mreturn\u001b[39;00m results_c(full_output, r)\n",
      "\u001b[1;31mValueError\u001b[0m: f(a) and f(b) must have different signs"
     ]
    }
   ],
   "source": [
    "a = 2 / 3\n",
    "epsilon = 0.001\n",
    "xn = (n**3 + n**2)**(1/3) - (n**3 - n**2)**(1/3)\n",
    "ineq = sp.Abs(xn-a) < epsilon\n",
    "\n",
    "from scipy.optimize import bisect\n",
    "func = sp.lambdify([n], sp.Abs(xn-a) - epsilon)\n",
    "bisect(func, 1, 5)"
   ]
  },
  {
   "cell_type": "code",
   "execution_count": null,
   "id": "ae91fd97-872b-4025-8d0d-89ca2cd74542",
   "metadata": {},
   "outputs": [],
   "source": []
  }
 ],
 "metadata": {
  "kernelspec": {
   "display_name": "Python 3 (ipykernel)",
   "language": "python",
   "name": "python3"
  },
  "language_info": {
   "codemirror_mode": {
    "name": "ipython",
    "version": 3
   },
   "file_extension": ".py",
   "mimetype": "text/x-python",
   "name": "python",
   "nbconvert_exporter": "python",
   "pygments_lexer": "ipython3",
   "version": "3.10.9"
  }
 },
 "nbformat": 4,
 "nbformat_minor": 5
}
