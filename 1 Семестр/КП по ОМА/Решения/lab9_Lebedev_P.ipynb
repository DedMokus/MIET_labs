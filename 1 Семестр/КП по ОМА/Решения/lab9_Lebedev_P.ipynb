{
 "cells": [
  {
   "cell_type": "code",
   "execution_count": 2,
   "id": "2765b6b6-f794-4660-8a75-13806ee12d7e",
   "metadata": {},
   "outputs": [],
   "source": [
    "import numpy as np\n",
    "import matplotlib.pyplot as plt\n",
    "import math\t\n",
    "import sympy as sp\n",
    "from matplotlib import cm\n",
    "from sympy.abc import x,y,z,alpha,beta,pi,n\n",
    "from matplotlib import style\n",
    "from scipy import optimize"
   ]
  },
  {
   "cell_type": "markdown",
   "id": "c83acf69-ad6f-44fa-99a1-b2351b6b01e7",
   "metadata": {},
   "source": [
    "1."
   ]
  },
  {
   "cell_type": "code",
   "execution_count": 6,
   "id": "fbe7a60b-0edf-4259-9d31-97998a444834",
   "metadata": {},
   "outputs": [
    {
     "name": "stdout",
     "output_type": "stream",
     "text": [
      "Значение полинома в точке x = -1: 10.2\n",
      "Значение полинома в точке x = 4: 3942.2\n",
      "Значение полинома в точке x = 2.2: 96.82630400000005\n",
      "Значение полинома в точке x = 3.141592653589793: 894.777921401613\n"
     ]
    }
   ],
   "source": [
    "pol = [1,0,0,-3.2,3,0,3]\n",
    "\n",
    "arg = [-1,4,2.2,np.pi]\n",
    "\n",
    "for i in arg:\n",
    "    print(f\"Значение полинома в точке x = {i}: {np.polyval(pol,i)}\")"
   ]
  },
  {
   "cell_type": "markdown",
   "id": "9a8f3ec1-5160-4f83-9df7-63ff0d4aa6b4",
   "metadata": {},
   "source": [
    "2."
   ]
  },
  {
   "cell_type": "code",
   "execution_count": 5,
   "id": "32f27495-b7ac-4781-a237-a58ed40b569d",
   "metadata": {},
   "outputs": [
    {
     "name": "stdout",
     "output_type": "stream",
     "text": [
      "-1.017+0.742j\n",
      "-1.017-0.742j\n",
      "-0.211+1.245j\n",
      "-0.211-1.245j\n",
      "1.084+0.441j\n",
      "1.084-0.441j\n",
      "0.289+0.000j\n"
     ]
    }
   ],
   "source": [
    "pol2 = [2,0,0,-3,0,0,7,0,-2]\n",
    "\n",
    "for i in np.roots(pol2):\n",
    "    print(f\"{i:.3f}\")"
   ]
  },
  {
   "cell_type": "markdown",
   "id": "1fc5b144-c4bb-404a-aec3-ff322a5bdb2d",
   "metadata": {},
   "source": [
    "3."
   ]
  },
  {
   "cell_type": "code",
   "execution_count": 8,
   "id": "f5309b02-676c-4964-be47-463ffe6eb9b6",
   "metadata": {},
   "outputs": [
    {
     "name": "stdout",
     "output_type": "stream",
     "text": [
      "[  1   2  -3  -5  -1   0  13  -3 -12   4]\n",
      "(array([1., 2., 3., 5.]), array([ 4., 12., -1.]))\n"
     ]
    }
   ],
   "source": [
    "pol31 = [1,2,0,0,-3,0,4]\n",
    "pol32 = [1,0,-3,1]\n",
    "\n",
    "print(np.convolve(pol31,pol32))\n",
    "print(np.polydiv(pol31,pol32))"
   ]
  },
  {
   "cell_type": "markdown",
   "id": "5ada122a-f590-4b3a-98d8-b5ed651cbea8",
   "metadata": {},
   "source": [
    "4."
   ]
  },
  {
   "cell_type": "code",
   "execution_count": 19,
   "id": "9df8ce5f-3ad3-456b-a917-29cc2ad18d4e",
   "metadata": {},
   "outputs": [
    {
     "name": "stdout",
     "output_type": "stream",
     "text": [
      "[ 1.  2.  0.  1. -3. -3.  2.]\n"
     ]
    }
   ],
   "source": [
    "def poly_summ(p1,p2):\n",
    "    l1 = len(p1); l2 = len(p2)\n",
    "    if l1 > l2:\n",
    "        buf = np.zeros(l1-l2)\n",
    "        pb = np.concatenate((buf,p2),axis=None)\n",
    "        return p1+pb\n",
    "    elif l2 > l1:\n",
    "        buf = np.zeros(l2-l1)\n",
    "        pb = np.concatenate((buf,p1),axis=None)\n",
    "        return pb+p2\n",
    "    else:\n",
    "        return p1+p2\n",
    "    \n",
    "p41 = np.array([1,2,0,0,-3,0,1])\n",
    "p42 = np.array([1,0,-3,1])\n",
    "\n",
    "print(poly_summ(p41,p42))"
   ]
  },
  {
   "cell_type": "markdown",
   "id": "aa069713-3533-4602-849b-c0abe129f345",
   "metadata": {},
   "source": [
    "5."
   ]
  },
  {
   "cell_type": "code",
   "execution_count": 21,
   "id": "97858655-13dc-4aab-84d3-24e412a612b9",
   "metadata": {},
   "outputs": [
    {
     "name": "stdout",
     "output_type": "stream",
     "text": [
      "[ 5 -4  0 -6  0]\n",
      "[ 6  0  0  0  0 -3]\n",
      "[ 1 -1  0 -3  0 -5  4 -1  9 -3  6 -2]\n",
      "(array([0.]), array([ 1., -1.,  0., -3.,  0., -2.]))\n"
     ]
    }
   ],
   "source": [
    "p51 = [1,-1,0,-3,0,-2]\n",
    "p52 = [1,0,0,0,0,-3,1]\n",
    "q51 = np.polyder(p51)\n",
    "q52 = np.polyder(p52)\n",
    "pc5 = np.convolve(p51,p52)\n",
    "pd5 = np.polydiv(p51,p52)\n",
    "print(q51)\n",
    "print(q52)\n",
    "print(pc5)\n",
    "print(pd5)"
   ]
  },
  {
   "cell_type": "markdown",
   "id": "0e554cbc-93c0-4bc9-a5c8-502c774078b4",
   "metadata": {},
   "source": [
    "6."
   ]
  },
  {
   "cell_type": "code",
   "execution_count": 29,
   "id": "8b8585eb-aa2e-4325-b298-0d36aa0f238f",
   "metadata": {},
   "outputs": [
    {
     "name": "stdout",
     "output_type": "stream",
     "text": [
      "[30240     0     0 -2520     0     0]\n",
      "-91.1232\n"
     ]
    }
   ],
   "source": [
    "def polydiff(p,n):\n",
    "    for i in range(1,n+1):\n",
    "        p = np.polyder(p)\n",
    "    print(p)\n",
    "    print(np.polyval(p,0.2))\n",
    "\n",
    "p6 = [1,0,0,-1,0,0,0,0,3,0,-2]\n",
    "polydiff(p6,5)"
   ]
  },
  {
   "cell_type": "markdown",
   "id": "4b30e27d-215a-4498-a47d-bafb547cb14f",
   "metadata": {},
   "source": [
    "7."
   ]
  },
  {
   "cell_type": "code",
   "execution_count": null,
   "id": "a91e832f-199e-40fe-8261-f84c2991e854",
   "metadata": {},
   "outputs": [],
   "source": [
    "def TaylorCoeffs(pol, point):\n",
    "    b_k = []\n",
    "    c = 0\n",
    "    while np.any(pol) != 0:\n",
    "        b_k.append(np.polyval(pol, point) / np.math.factorial(c))\n",
    "        pol = np.polyder(pol)\n",
    "        c += 1\n",
    "    return b_k\n",
    " \n",
    "pol = [1, 0, 2, 0, 0, -3, -2]\n",
    " \n",
    "p1 = 1\n",
    "p2 = -2\n",
    "\n",
    "print(\"Коэффициенты в многочлене Тейлора по степени x-1:\", TaylorCoeffs(pol, p1))\n",
    "print(\"Коэффициенты в многочлене Тейлора по степени x+2:\", TaylorCoeffs(pol, p2))"
   ]
  },
  {
   "cell_type": "markdown",
   "id": "c2106be1-c0f0-455b-9dd4-6cd4676ffbe7",
   "metadata": {},
   "source": [
    "С1"
   ]
  },
  {
   "cell_type": "code",
   "execution_count": 31,
   "id": "a1bf836c-9b4a-47a0-9356-afaea273cbc1",
   "metadata": {},
   "outputs": [
    {
     "name": "stdout",
     "output_type": "stream",
     "text": [
      "-1.000+0.000j\n",
      "-0.500+0.866j\n",
      "-0.500-0.866j\n",
      "0.500+0.866j\n",
      "0.500-0.866j\n",
      "1.000+0.000j\n"
     ]
    }
   ],
   "source": [
    "polc1 = [1,0,0,0,0,0,-1]\n",
    "\n",
    "for i in np.roots(polc1):\n",
    "    print(f\"{i:.3f}\")"
   ]
  },
  {
   "cell_type": "markdown",
   "id": "7d3b00ef-ee90-4871-91e6-566b2ac9910f",
   "metadata": {},
   "source": [
    "C2"
   ]
  },
  {
   "cell_type": "code",
   "execution_count": 33,
   "id": "61412e4a-3c2e-46d0-8291-91dfa32bf4b1",
   "metadata": {},
   "outputs": [
    {
     "name": "stdout",
     "output_type": "stream",
     "text": [
      "[ 1  0  0 -1]\n",
      "(array([1., 2.]), array([3.]))\n",
      "[1. 2. 0.]\n"
     ]
    }
   ],
   "source": [
    "polc21 = [1,1,1]\n",
    "polc22 = [1,-1]\n",
    "\n",
    "print(np.convolve(polc21,polc22))\n",
    "print(np.polydiv(polc21,polc22))\n",
    "print(poly_summ(polc21,polc22))"
   ]
  }
 ],
 "metadata": {
  "kernelspec": {
   "display_name": "Python 3 (ipykernel)",
   "language": "python",
   "name": "python3"
  },
  "language_info": {
   "codemirror_mode": {
    "name": "ipython",
    "version": 3
   },
   "file_extension": ".py",
   "mimetype": "text/x-python",
   "name": "python",
   "nbconvert_exporter": "python",
   "pygments_lexer": "ipython3",
   "version": "3.10.9"
  }
 },
 "nbformat": 4,
 "nbformat_minor": 5
}
