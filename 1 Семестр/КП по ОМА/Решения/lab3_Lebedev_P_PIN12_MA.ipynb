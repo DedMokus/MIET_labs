{
 "cells": [
  {
   "cell_type": "markdown",
   "id": "f324ac1c-3bcb-4815-9f63-44d862f03bca",
   "metadata": {},
   "source": [
    "Упражнение 1"
   ]
  },
  {
   "cell_type": "code",
   "execution_count": 5,
   "id": "36119125-cc3a-4049-aa15-2e0002b10fb6",
   "metadata": {},
   "outputs": [
    {
     "name": "stdout",
     "output_type": "stream",
     "text": [
      "(9+7j)\n"
     ]
    }
   ],
   "source": [
    "a = complex(2,3)\n",
    "b = complex(3,-1)\n",
    "print(a*b)"
   ]
  },
  {
   "cell_type": "code",
   "execution_count": 6,
   "id": "1d2dae5a-4922-4f8c-826e-c403b0d4b7a4",
   "metadata": {},
   "outputs": [
    {
     "name": "stdout",
     "output_type": "stream",
     "text": [
      "-4j\n"
     ]
    }
   ],
   "source": [
    "a2 = complex(1,-1)\n",
    "b2 = complex(1,1)\n",
    "print(a2**3-b2**3)"
   ]
  },
  {
   "cell_type": "code",
   "execution_count": 9,
   "id": "25d2918f-bf72-494e-bd3e-f3512b6a36cc",
   "metadata": {},
   "outputs": [
    {
     "name": "stdout",
     "output_type": "stream",
     "text": [
      "1j\n",
      "(-1+0j)\n",
      "(-0-1j)\n",
      "(1+0j)\n",
      "1j\n",
      "(-1+0j)\n",
      "(-0-1j)\n",
      "(1+0j)\n"
     ]
    }
   ],
   "source": [
    "a3 = complex(0,1)\n",
    "i = 0\n",
    "for i in range(1, 8+1):\n",
    "    print(a3**i)"
   ]
  },
  {
   "cell_type": "code",
   "execution_count": 10,
   "id": "e181c256-6c72-4b35-866c-afbafacb819d",
   "metadata": {},
   "outputs": [
    {
     "name": "stdout",
     "output_type": "stream",
     "text": [
      "(-0.35294117647058826-0.5882352941176471j)\n"
     ]
    }
   ],
   "source": [
    "a4 = complex(2,-3)\n",
    "b4 = complex(1,4)\n",
    "c4 = complex(1,0)\n",
    "d4 = complex(4,-1)\n",
    "print((a4/b4)+(c4/d4))"
   ]
  },
  {
   "cell_type": "markdown",
   "id": "2dc3ac66-7e20-429c-9ecd-7035760d75b3",
   "metadata": {},
   "source": [
    "Упражнение 2"
   ]
  },
  {
   "cell_type": "code",
   "execution_count": 24,
   "id": "5b2020af-a5fd-4fa2-931a-26941c744318",
   "metadata": {},
   "outputs": [],
   "source": [
    "import numpy as np\n",
    "import matplotlib.pyplot as plt"
   ]
  },
  {
   "cell_type": "code",
   "execution_count": 14,
   "id": "69bfec12-bfe7-4541-88e5-396e71b9a13c",
   "metadata": {},
   "outputs": [
    {
     "name": "stdout",
     "output_type": "stream",
     "text": [
      "(3.4641016151377544+1.9999999999999996j)\n",
      "(-1-0j)\n"
     ]
    }
   ],
   "source": [
    "z1 = complex(1,np.sqrt(3))\n",
    "z2 = complex(np.sqrt(3),1)\n",
    "print(z1*np.conj(z2))\n",
    "print(pow(np.conj(z1)/z2,2))"
   ]
  },
  {
   "cell_type": "markdown",
   "id": "50f673df-0326-4594-b40a-d06a71bdf0d7",
   "metadata": {},
   "source": [
    "Упражнение 3"
   ]
  },
  {
   "cell_type": "code",
   "execution_count": 93,
   "id": "11de5d66-5eea-447c-aceb-0e76ab87e070",
   "metadata": {},
   "outputs": [
    {
     "name": "stdout",
     "output_type": "stream",
     "text": [
      "1:\n",
      "Re(x) =  50.0\n",
      "Im(x) =  -1.0\n",
      "Abs(x) =  50.00999900019995\n",
      "Arg(x) =  -0.01999733397315053\n",
      "Conj(x) =  (50+1j)\n",
      "2:\n",
      "Re(x) =  128.0\n",
      "Im(x) =  -128.0\n",
      "Abs(x) =  181.01933598375618\n",
      "Arg(x) =  -0.7853981633974483\n",
      "Conj(x) =  (128+128j)\n"
     ]
    }
   ],
   "source": [
    "a31 = complex(4,-5)\n",
    "b31 = 5-6*(1j**3)\n",
    "c31 = complex(1,1)\n",
    "print('1:')\n",
    "print('Re(x) = ',np.real(a31*b31))\n",
    "print('Im(x) = ',np.imag(a31*b31))\n",
    "print('Abs(x) = ',np.abs(a31*b31))\n",
    "print('Arg(x) = ',np.angle(a31*b31))\n",
    "print('Conj(x) = ',np.conj(a31*b31))\n",
    "\n",
    "print('2:')\n",
    "print('Re(x) = ',np.real(c31**15))\n",
    "print('Im(x) = ',np.imag(c31**15))\n",
    "print('Abs(x) = ',np.abs(c31**15))\n",
    "print('Arg(x) = ',np.angle(c31**15))\n",
    "print('Conj(x) = ',np.conj(c31**15))"
   ]
  },
  {
   "cell_type": "markdown",
   "id": "170e72ac-b803-4eec-825d-520cf50e891d",
   "metadata": {},
   "source": [
    "Упранение 4"
   ]
  },
  {
   "cell_type": "code",
   "execution_count": 42,
   "id": "8453fab7-34f8-4080-83e2-25f7a3572e30",
   "metadata": {},
   "outputs": [
    {
     "data": {
      "image/png": "[encoded data removed]",
      "text/plain": [
       "<Figure size 432x288 with 1 Axes>"
      ]
     },
     "metadata": {
      "needs_background": "light"
     },
     "output_type": "display_data"
    }
   ],
   "source": [
    "z41 = complex(1,3)\n",
    "z42 = complex(3,4)\n",
    "x = np.array([z1, z2, z1+z2, z1-z2])\n",
    "plt.plot()\n",
    "plt.scatter(np.real(x),np.imag(x), marker=\"*\", color=\"green\", s=50)\n",
    "#plt.axis('equal')\n",
    "plt.axhline(y=0, color='k')\n",
    "plt.axvline(x=0, color='k')\n",
    "plt.grid(True)\n",
    "plt.title('Complex numbers')\n",
    "plt.xlabel('Re(z)')\n",
    "plt.ylabel('Im(z)')\n",
    "plt.show()"
   ]
  },
  {
   "cell_type": "markdown",
   "id": "c91c0fdd-d6c9-4d9d-8771-c7bbc5978ed2",
   "metadata": {},
   "source": [
    "Упражнение 5"
   ]
  },
  {
   "cell_type": "code",
   "execution_count": 62,
   "id": "d9a2d501-09c0-491d-b211-1878218c4a3f",
   "metadata": {},
   "outputs": [
    {
     "data": {
      "text/plain": [
       "<matplotlib.patches.FancyArrow at 0x226df1085e0>"
      ]
     },
     "execution_count": 62,
     "metadata": {},
     "output_type": "execute_result"
    },
    {
     "data": {
      "image/png": "[encoded data removed]",
      "text/plain": [
       "<Figure size 432x288 with 1 Axes>"
      ]
     },
     "metadata": {
      "needs_background": "light"
     },
     "output_type": "display_data"
    }
   ],
   "source": [
    "z5 = complex(2*np.sqrt(3),-2)\n",
    "r = np.abs(z)\n",
    "phi=np.angle(z)\n",
    "k = np.arange(1,5)\n",
    "zroot = r**(1/4)*( np.cos((phi+2.0*np.pi*k)/4) + 1j*np.sin((phi+2.0*np.pi*k)/4))\n",
    "#print(zroot)\n",
    "plt.title('$\\sqrt[4]{2\\sqrt{3}-2j}$ complex roots')\n",
    "\n",
    "plt.plot(np.real(zroot), np.imag(zroot), '*g')\n",
    "plt.axhline(y=0, color='k')\n",
    "plt.axvline(x=0, color='k')\n",
    "plt.axis('equal')\n",
    "t = np.linspace(0,2*np.pi,100)\n",
    "plt.plot(r**(1/4)*np.cos(t),r**(1/4)*np.sin(t),':')\n",
    "plt.grid(True)\n",
    "plt.xlabel('Re(z)')\n",
    "plt.ylabel('Im(z)')\n",
    "\n",
    "A = np.array([np.real(zroot[0]), np.imag(zroot[0])])\n",
    "B = np.array([np.real(zroot[1]), np.imag(zroot[1])])\n",
    "C = np.array([np.real(zroot[2]), np.imag(zroot[2])])\n",
    "D = np.array([np.real(zroot[3]), np.imag(zroot[3])])\n",
    "AB = B - A\n",
    "BC = C - B\n",
    "CD = D - C\n",
    "DA = A - D\n",
    "\n",
    "plt.arrow(np.real(zroot[0]), np.imag(zroot[0]),AB[0], AB[1], width=0.01, length_includes_head=True, facecolor='Black',linestyle = '-.')\n",
    "plt.arrow(np.real(zroot[1]), np.imag(zroot[1]), BC[0], BC[1], width=0.01, length_includes_head=True, facecolor='Black',linestyle = '-.')\n",
    "plt.arrow(np.real(zroot[2]), np.imag(zroot[2]), CD[0], CD[1], width=0.01, length_includes_head=True, facecolor='Black',linestyle = '-.')\n",
    "plt.arrow(np.real(zroot[3]), np.imag(zroot[3]), DA[0], DA[1], width=0.01, length_includes_head=True, facecolor='Black',linestyle = '-.')"
   ]
  },
  {
   "cell_type": "markdown",
   "id": "b58f4a20-682c-4d2c-b5d2-c738fd0e11ed",
   "metadata": {},
   "source": [
    "Упражнение 6"
   ]
  },
  {
   "cell_type": "code",
   "execution_count": 71,
   "id": "704351f3-e8a0-455d-8315-2a4484ecbd1c",
   "metadata": {},
   "outputs": [
    {
     "data": {
      "text/plain": [
       "Text(0, 0.5, 'Im(z)')"
      ]
     },
     "execution_count": 71,
     "metadata": {},
     "output_type": "execute_result"
    },
    {
     "data": {
      "image/png": "[encoded data removed]",
      "text/plain": [
       "<Figure size 432x288 with 1 Axes>"
      ]
     },
     "metadata": {
      "needs_background": "light"
     },
     "output_type": "display_data"
    }
   ],
   "source": [
    "r = np.linspace(0,5,100)\n",
    "t2 = np.pi/4\n",
    "t1 = np.pi/6*5\n",
    "t = np.linspace(0,2*np.pi,100)\n",
    "z61 = r*(np.cos(t1)+1j*np.sin(t1))\n",
    "plt.plot(np.real(z61),np.imag(z61),'r')\n",
    "z62 = r*(np.cos(t2)+1j*np.sin(t2))\n",
    "plt.plot(np.real(z62),np.imag(z62),'r')\n",
    "plt.grid(True)\n",
    "plt.axis('equal')\n",
    "plt.axhline(y=0, color='k')\n",
    "plt.axvline(x=0, color='k')\n",
    "plt.title('arg(z)=')\n",
    "plt.xlabel('Re(z)')\n",
    "plt.ylabel('Im(z)')"
   ]
  },
  {
   "cell_type": "markdown",
   "id": "1df9ee0e-b3e7-4d70-9ea0-318913df989b",
   "metadata": {},
   "source": [
    "C1"
   ]
  },
  {
   "cell_type": "code",
   "execution_count": 72,
   "id": "e957d9cf-fe25-4325-ad2b-3f6a5a6dcbc4",
   "metadata": {},
   "outputs": [
    {
     "name": "stdout",
     "output_type": "stream",
     "text": [
      "(1+7j)\n"
     ]
    }
   ],
   "source": [
    "zc11 = complex(1,2)\n",
    "zc12 = complex(1,-1)\n",
    "print((zc11**2)*zc12)"
   ]
  },
  {
   "cell_type": "code",
   "execution_count": 73,
   "id": "6127350c-7cac-4cfe-9d96-2efa5356678c",
   "metadata": {},
   "outputs": [
    {
     "name": "stdout",
     "output_type": "stream",
     "text": [
      "-0j\n"
     ]
    }
   ],
   "source": [
    "zc13 = complex(1,-1)\n",
    "zc14 = complex(1,1)\n",
    "print(zc13**4 - zc14**4)"
   ]
  },
  {
   "cell_type": "code",
   "execution_count": 83,
   "id": "caa52d77-0717-4f3d-bb06-5361a24564d2",
   "metadata": {},
   "outputs": [
    {
     "name": "stdout",
     "output_type": "stream",
     "text": [
      "[ 1.+0.j  0.+1.j -1.+0.j -0.-1.j  1.+0.j  0.+1.j -1.+0.j -0.-1.j  1.+0.j\n",
      "  0.+1.j -1.+0.j -0.-1.j  1.+0.j  0.+1.j -1.+0.j -0.-1.j  1.+0.j  0.+1.j\n",
      " -1.+0.j -0.-1.j  1.+0.j]\n"
     ]
    }
   ],
   "source": [
    "a3 = complex(0,1)\n",
    "i = 0\n",
    "k = range(20,41)\n",
    "arrc3 = [0] * 20\n",
    "print(np.power(a3,k))\n"
   ]
  },
  {
   "cell_type": "code",
   "execution_count": 85,
   "id": "1b714174-6191-483b-bf0d-9cccfed618e5",
   "metadata": {},
   "outputs": [
    {
     "name": "stdout",
     "output_type": "stream",
     "text": [
      "(-1.5-2j)\n"
     ]
    },
    {
     "data": {
      "image/png": "[encoded data removed]",
      "text/plain": [
       "<Figure size 432x288 with 1 Axes>"
      ]
     },
     "metadata": {
      "needs_background": "light"
     },
     "output_type": "display_data"
    }
   ],
   "source": [
    "zc141 = complex(2,5)\n",
    "zc142 = complex(1.-3)\n",
    "zc143 = complex(0,1)\n",
    "zc144 = complex(1,-1)\n",
    "x = zc141/zc142+zc143/zc144\n",
    "print(x)\n",
    "plt.plot()\n",
    "plt.scatter(np.real(x),np.imag(x), marker=\"*\", color=\"green\", s=50)\n",
    "#plt.axis('equal')\n",
    "plt.axhline(y=0, color='k')\n",
    "plt.axvline(x=0, color='k')\n",
    "plt.grid(True)\n",
    "plt.title('Complex numbers')\n",
    "plt.xlabel('Re(z)')\n",
    "plt.ylabel('Im(z)')\n",
    "plt.show()"
   ]
  },
  {
   "cell_type": "markdown",
   "id": "9e0f87e1-dc22-46c9-bb8d-50ee1d0c9866",
   "metadata": {},
   "source": [
    "C2"
   ]
  },
  {
   "cell_type": "code",
   "execution_count": 87,
   "id": "1ca61de2-5c27-47f4-9160-d88be0788b14",
   "metadata": {},
   "outputs": [
    {
     "name": "stdout",
     "output_type": "stream",
     "text": [
      "-3.9999999999999996j\n",
      "(0.5000000000000001-0.8660254037844387j)\n"
     ]
    }
   ],
   "source": [
    "zc21 = complex(np.sqrt(3),-1)\n",
    "zc22 = complex(1,np.sqrt(3))\n",
    "print(zc21*np.conj(zc22))\n",
    "print(pow(np.conj(zc21)/zc22,2))"
   ]
  },
  {
   "cell_type": "code",
   "execution_count": 90,
   "id": "29df20df-ce55-423e-b716-d057095a9b06",
   "metadata": {},
   "outputs": [
    {
     "data": {
      "text/plain": [
       "(1-1j)"
      ]
     },
     "execution_count": 90,
     "metadata": {},
     "output_type": "execute_result"
    }
   ],
   "source": [
    "1+(1j**3)"
   ]
  },
  {
   "cell_type": "markdown",
   "id": "2a4af098-573a-49fb-82b9-a64e7ba56b06",
   "metadata": {},
   "source": [
    "C3"
   ]
  },
  {
   "cell_type": "code",
   "execution_count": 92,
   "id": "aea0d329-3c99-41bb-8dd4-0325863f59f7",
   "metadata": {},
   "outputs": [
    {
     "name": "stdout",
     "output_type": "stream",
     "text": [
      "1:\n",
      "Re(x) =  7.0\n",
      "Im(x) =  22.0\n",
      "Abs(x) =  23.08679276123039\n",
      "Arg(x) =  1.2627435457711202\n",
      "Conj(x) =  (7-22j)\n",
      "2:\n",
      "Re(x) =  -64.0\n",
      "Im(x) =  64.0\n",
      "Abs(x) =  90.50966799187809\n",
      "Arg(x) =  2.356194490192345\n",
      "Conj(x) =  (-64-64j)\n"
     ]
    }
   ],
   "source": [
    "zc31 = complex(5,4)\n",
    "zc32 = 3-2*(1j**3)\n",
    "zc33 = complex(1,-1)\n",
    "\n",
    "print('1:')\n",
    "print('Re(x) = ',np.real(zc31*zc32))\n",
    "print('Im(x) = ',np.imag(zc31*zc32))\n",
    "print('Abs(x) = ',np.abs(zc31*zc32))\n",
    "print('Arg(x) = ',np.angle(zc31*zc32))\n",
    "print('Conj(x) = ',np.conj(zc31*zc32))\n",
    "\n",
    "print('2:')\n",
    "print('Re(x) = ',np.real(zc33**13))\n",
    "print('Im(x) = ',np.imag(zc33**13))\n",
    "print('Abs(x) = ',np.abs(zc33**13))\n",
    "print('Arg(x) = ',np.angle(zc33**13))\n",
    "print('Conj(x) = ',np.conj(zc33**13))"
   ]
  },
  {
   "cell_type": "markdown",
   "id": "31cca41d-4cb0-4140-8317-3a621a875a6f",
   "metadata": {},
   "source": [
    "C4"
   ]
  },
  {
   "cell_type": "code",
   "execution_count": 101,
   "id": "85567920-8e11-4b3b-ab34-1dca66593e25",
   "metadata": {},
   "outputs": [
    {
     "name": "stdout",
     "output_type": "stream",
     "text": [
      "[ 0.85985581+0.7215047j  -0.19491349+1.10540933j -1.0547693 +0.38390463j\n",
      " -0.85985581-0.7215047j   0.19491349-1.10540933j  1.0547693 -0.38390463j]\n"
     ]
    },
    {
     "data": {
      "text/plain": [
       "<matplotlib.patches.FancyArrow at 0x226e5e87a90>"
      ]
     },
     "execution_count": 101,
     "metadata": {},
     "output_type": "execute_result"
    },
    {
     "data": {
      "image/png": "[encoded data removed]",
      "text/plain": [
       "<Figure size 432x288 with 1 Axes>"
      ]
     },
     "metadata": {
      "needs_background": "light"
     },
     "output_type": "display_data"
    }
   ],
   "source": [
    "z = -1 - np.sqrt(3)*(1j)\n",
    "r = np.abs(z)\n",
    "phi=np.angle(z)\n",
    "k = np.arange(1,7)\n",
    "zroot = r**(1/6)*( np.cos((phi+2.0*np.pi*k)/6) +\n",
    " 1j*np.sin((phi+2.0*np.pi*k)/6))\n",
    "print(zroot)\n",
    "plt.title('$\\sqrt[6]{-1-\\sqrt{3}j}$ complex roots')\n",
    "5\n",
    "plt.plot(np.real(zroot), np.imag(zroot), '*g')\n",
    "plt.axhline(y=0, color='k')\n",
    "plt.axvline(x=0, color='k')\n",
    "plt.axis('equal')\n",
    "t = np.linspace(0,2*np.pi,100)\n",
    "plt.plot(r**(1/6)*np.cos(t),r**(1/6)*np.sin(t),':')\n",
    "\n",
    "A = np.array([np.real(zroot[0]), np.imag(zroot[0])])\n",
    "B = np.array([np.real(zroot[1]), np.imag(zroot[1])])\n",
    "C = np.array([np.real(zroot[2]), np.imag(zroot[2])])\n",
    "D = np.array([np.real(zroot[3]), np.imag(zroot[3])])\n",
    "E = np.array([np.real(zroot[4]), np.imag(zroot[4])])\n",
    "F = np.array([np.real(zroot[5]), np.imag(zroot[5])])\n",
    "\n",
    "AB = B - A\n",
    "BC = C - B\n",
    "CD = D - C\n",
    "DE = E - D\n",
    "EF = F - E\n",
    "FA = A - F\n",
    "\n",
    "plt.arrow(np.real(zroot[0]), np.imag(zroot[0]),AB[0], AB[1], width=0.01, length_includes_head=True, facecolor='Black',linestyle = '-.')\n",
    "plt.arrow(np.real(zroot[1]), np.imag(zroot[1]), BC[0], BC[1], width=0.01, length_includes_head=True, facecolor='Black',linestyle = '-.')\n",
    "plt.arrow(np.real(zroot[2]), np.imag(zroot[2]), CD[0], CD[1], width=0.01, length_includes_head=True, facecolor='Black',linestyle = '-.')\n",
    "plt.arrow(np.real(zroot[3]), np.imag(zroot[3]), DE[0], DE[1], width=0.01, length_includes_head=True, facecolor='Black',linestyle = '-.')\n",
    "plt.arrow(np.real(zroot[4]), np.imag(zroot[4]), EF[0], EF[1], width=0.01, length_includes_head=True, facecolor='Black',linestyle = '-.')\n",
    "plt.arrow(np.real(zroot[5]), np.imag(zroot[5]), FA[0], FA[1], width=0.01, length_includes_head=True, facecolor='Black',linestyle = '-.')"
   ]
  },
  {
   "cell_type": "markdown",
   "id": "9705d28f-e2be-4f5b-bc15-a8fafc30507b",
   "metadata": {},
   "source": [
    "C5"
   ]
  },
  {
   "cell_type": "code",
   "execution_count": 103,
   "id": "89148f3f-6944-4f8b-ac60-5a27f8508e79",
   "metadata": {},
   "outputs": [
    {
     "data": {
      "text/plain": [
       "Text(0, 0.5, 'Im(z)')"
      ]
     },
     "execution_count": 103,
     "metadata": {},
     "output_type": "execute_result"
    },
    {
     "data": {
      "image/png": "[encoded data removed]",
      "text/plain": [
       "<Figure size 432x288 with 1 Axes>"
      ]
     },
     "metadata": {
      "needs_background": "light"
     },
     "output_type": "display_data"
    }
   ],
   "source": [
    "r = np.linspace(0,5,100)\n",
    "t2 = (-1)*3*np.pi/4\n",
    "t1 = np.pi/3*(-1)\n",
    "t = np.linspace(0,2*np.pi,100)\n",
    "z61 = r*(np.cos(t1)+1j*np.sin(t1))\n",
    "plt.plot(np.real(z61),np.imag(z61),'r')\n",
    "z62 = r*(np.cos(t2)+1j*np.sin(t2))\n",
    "plt.plot(np.real(z62),np.imag(z62),'r')\n",
    "plt.grid(True)\n",
    "plt.axis('equal')\n",
    "plt.axhline(y=0, color='k')\n",
    "plt.axvline(x=0, color='k')\n",
    "plt.title('arg(z)=')\n",
    "plt.xlabel('Re(z)')\n",
    "plt.ylabel('Im(z)')"
   ]
  },
  {
   "cell_type": "code",
   "execution_count": null,
   "id": "6ed56328-32ab-4857-8a04-716187033d76",
   "metadata": {},
   "outputs": [],
   "source": []
  }
 ],
 "metadata": {
  "kernelspec": {
   "display_name": "Python 3 (ipykernel)",
   "language": "python",
   "name": "python3"
  },
  "language_info": {
   "codemirror_mode": {
    "name": "ipython",
    "version": 3
   },
   "file_extension": ".py",
   "mimetype": "text/x-python",
   "name": "python",
   "nbconvert_exporter": "python",
   "pygments_lexer": "ipython3",
   "version": "3.9.12"
  }
 },
 "nbformat": 4,
 "nbformat_minor": 5
}
