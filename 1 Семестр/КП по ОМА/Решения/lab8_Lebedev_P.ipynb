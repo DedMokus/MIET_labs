{
 "cells": [
  {
   "cell_type": "code",
   "execution_count": 1,
   "id": "88985a17-eadb-4d46-8b0c-5ceb82f97f66",
   "metadata": {},
   "outputs": [],
   "source": [
    "import numpy as np\n",
    "import matplotlib.pyplot as plt\n",
    "import math\t\n",
    "import sympy as sp\n",
    "from matplotlib import cm\n",
    "from sympy.abc import x,y,z,alpha,beta,pi,n\n",
    "from matplotlib import style\n",
    "from scipy import optimize"
   ]
  },
  {
   "cell_type": "markdown",
   "id": "f60be22e-4e2d-4e6d-9279-97944cb1d267",
   "metadata": {},
   "source": [
    "Упражнение 1."
   ]
  },
  {
   "cell_type": "code",
   "execution_count": 12,
   "id": "7e37c084-ab74-4599-bb7d-ccb4f5cba802",
   "metadata": {},
   "outputs": [
    {
     "name": "stdout",
     "output_type": "stream",
     "text": [
      "x0 = 0:\n",
      "[0.0, 0.01, 0.04, 0.09, 0.16, 0.25, 0.36, 0.49, 0.64, 0.81]\n",
      "x0 = 2:\n",
      "[0.0, 0.41, 0.84, 1.29, 1.76, 2.25, 2.76, 3.29, 3.84, 4.41]\n",
      "x0 = -9:\n",
      "[0.0, -1.79, -3.56, -5.31, -7.04, -8.75, -10.44, -12.11, -13.76, -15.39]\n"
     ]
    }
   ],
   "source": [
    "def func1 (x):\n",
    "    return x**2\n",
    "\n",
    "print('x0 = 0:')\n",
    "x0 = 0;\n",
    "df = []\n",
    "for dx in np.arange(0,1,0.1):\n",
    "    dft = func1(x0 + dx) - func1(x0)\n",
    "    df.append(round(dft,3))\n",
    "print(df)\n",
    "    \n",
    "print('x0 = 2:')    \n",
    "x0 = 2;\n",
    "df = []\n",
    "for dx in np.arange(0,1,0.1):\n",
    "    dft = func1(x0 + dx) - func1(x0)\n",
    "    df.append(round(dft,3))\n",
    "print(df)\n",
    "\n",
    "print('x0 = -9:')\n",
    "x0 = -9;\n",
    "df = []\n",
    "for dx in np.arange(0,1,0.1):\n",
    "    dft = func1(x0 + dx) - func1(x0)\n",
    "    df.append(round(dft,3))\n",
    "print(df)"
   ]
  },
  {
   "cell_type": "markdown",
   "id": "26ce6211-1876-4bea-ba93-819ed6e33ef5",
   "metadata": {},
   "source": [
    "Упражнение 2."
   ]
  },
  {
   "cell_type": "code",
   "execution_count": 16,
   "id": "07a6c12e-f64f-4e4f-b3f8-9da047dc756a",
   "metadata": {},
   "outputs": [
    {
     "name": "stdout",
     "output_type": "stream",
     "text": [
      "x0 = 1\n",
      "df:\n",
      "[1.0, 0.818, 0.667, 0.538, 0.429, 0.333, 0.25, 0.176, 0.111, 0.053, 0.0, -0.048, -0.091, -0.13, -0.167, -0.2, -0.231, -0.259, -0.286, -0.31]\n"
     ]
    }
   ],
   "source": [
    "def func2 (x):\n",
    "    f = 1/x\n",
    "    return f\n",
    "\n",
    "def df2 (dx):\n",
    "    x0 = 1\n",
    "    df = func2(x0 + dx) - func2(x0)\n",
    "    return df\n",
    "\n",
    "print('x0 = 1')\n",
    "df = []\n",
    "for dx in np.arange(-0.5,0.5,0.05):\n",
    "    df.append(round(df2(dx),3))\n",
    "    \n",
    "print('df:')\n",
    "print(df)"
   ]
  },
  {
   "cell_type": "markdown",
   "id": "bb6b4925-806b-4703-a396-09f94191d007",
   "metadata": {},
   "source": [
    "Упражнение 3."
   ]
  },
  {
   "cell_type": "code",
   "execution_count": 22,
   "id": "9048fa82-92c7-4f25-93d6-e6afc9773489",
   "metadata": {},
   "outputs": [
    {
     "name": "stdout",
     "output_type": "stream",
     "text": [
      "dx = 0.1 x0 = 1\n",
      "df/dx =  0.4880884817015163\n",
      "dx = 0.01 x0 = 1\n",
      "df/dx =  0.498756211208895\n",
      "dx = 0.001 x0 = 1\n",
      "df/dx =  0.4998750624609638\n",
      "dx = 0.1 x0 = 0.5\n",
      "df/dx =  0.6748988805493583\n",
      "dx = 0.01 x0 = 0.5\n",
      "df/dx =  0.7036061667737403\n",
      "dx = 0.001 x0 = 0.5\n",
      "df/dx =  0.7067535809079928\n",
      "dx = 0.1 x0 = 2\n",
      "df/dx =  0.34924112245848793\n",
      "dx = 0.01 x0 = 2\n",
      "df/dx =  0.35311255026873045\n",
      "dx = 0.001 x0 = 2\n",
      "df/dx =  0.3535092074644641\n"
     ]
    }
   ],
   "source": [
    "def func3 (x):\n",
    "    return np.sqrt(x)\n",
    "\n",
    "def otn (dx, x0):\n",
    "    df = func3(x0 + dx) - func3(x0)\n",
    "    return df / dx\n",
    "\n",
    "for x0 in [1, 0.5, 2]:\n",
    "    for dx in [0.1, 0.01, 0.001]:\n",
    "        print('dx =',dx,'x0 =',x0)\n",
    "        print('df/dx = ',otn(dx,x0))"
   ]
  },
  {
   "cell_type": "markdown",
   "id": "4fe40d0f-1e06-4ebf-88bd-cb87a42721fb",
   "metadata": {},
   "source": [
    "Упражнение 4."
   ]
  },
  {
   "cell_type": "code",
   "execution_count": 27,
   "id": "e6c825b4-dcb9-4817-912d-c0bc087231f4",
   "metadata": {},
   "outputs": [
    {
     "name": "stdout",
     "output_type": "stream",
     "text": [
      "df / dx =  0.3332222839094179\n",
      "df / dx =  0.3334445062139757\n",
      "df / dx =  0.20995185356054158\n",
      "df / dx =  0.21002184918095246\n",
      "df / dx =  (-0.08013388055227999-0.13879595252430654j)\n",
      "df / dx =  (-0.08011607500135742-0.1387651124051814j)\n",
      "df / dx =  1.3867749251610384\n",
      "df / dx =  1.3858140190949886\n",
      "df / dx =  2.773549850322077\n",
      "df / dx =  2.771628038189533\n",
      "df / dx =  0.0866734328225649\n",
      "df / dx =  0.08661337619342291\n"
     ]
    }
   ],
   "source": [
    "def func41 (x):\n",
    "    return x**(1/3)\n",
    "\n",
    "def func42 (x):\n",
    "    return 2**x\n",
    "\n",
    "def otn2 (func, dx, x0):\n",
    "    df = func(x0 + dx) - func(x0)\n",
    "    return df / dx\n",
    "\n",
    "for f in [func41, func42]:\n",
    "    for x0 in [1, 2, -3]:\n",
    "        for dx in [0.001, -0.001]:\n",
    "            print('df / dx = ',otn2(f,dx,x0))"
   ]
  },
  {
   "cell_type": "markdown",
   "id": "95810259-9967-4259-947e-986ed1ea4ea9",
   "metadata": {},
   "source": [
    "Упражнение 5."
   ]
  },
  {
   "cell_type": "code",
   "execution_count": 30,
   "id": "78ee923d-6ae5-4d8e-9398-611142e377eb",
   "metadata": {},
   "outputs": [
    {
     "name": "stdout",
     "output_type": "stream",
     "text": [
      "f* =  0.900333222283909\n",
      "f* =  0.949666555493786 - 0.0866025403784439*I\n",
      "f* =  0.580065500874217\n",
      "f* =  0.604855514022846 - 0.0433012701892219*I\n",
      "f* =  -0.207014883757717 - 0.416295323510294*I\n",
      "f* =  -0.223734967076235 - 0.387520330405789*I\n",
      "f* =  1.00069338746258\n",
      "f* =  0.999307092990453\n",
      "f* =  1.50104008119387\n",
      "f* =  1.49896063948568\n",
      "f* =  0.291868904676586\n",
      "f* =  0.291464568788882\n"
     ]
    }
   ],
   "source": [
    "def proizv (func,x0,dx):\n",
    "    df = func(x0 + dx) - func(x0)\n",
    "    pro = sp.limit(df/dx,x,x0)\n",
    "    return pro\n",
    "\n",
    "for f in [func41, func42]:\n",
    "    for x0 in [1, 2, -3]:\n",
    "        for dx in [0.001, -0.001]:\n",
    "            print('f* = ',proizv(f,dx,x0))"
   ]
  },
  {
   "cell_type": "markdown",
   "id": "9a4ecd12-b19b-47e6-8b9e-d138fe43122b",
   "metadata": {},
   "source": [
    "Упражнение 6."
   ]
  },
  {
   "cell_type": "code",
   "execution_count": 35,
   "id": "af12b97f-925f-4953-b944-9df673292a7a",
   "metadata": {},
   "outputs": [
    {
     "name": "stdout",
     "output_type": "stream",
     "text": [
      "0.580279834244736\n",
      "1.36324364610782*log(3)\n"
     ]
    }
   ],
   "source": [
    "x = sp.symbols('x')\n",
    "\n",
    "f1 = sp.atan(sp.sqrt(x))**2\n",
    "f2 = 3**(sp.asin(x**2))\n",
    "x0 = 0.5\n",
    "\n",
    "y1 = sp.diff(f1,x,1)\n",
    "y2 = sp.diff(f2,x,1)\n",
    "\n",
    "print(y1.subs(x,x0))\n",
    "print(y2.subs(x,x0))"
   ]
  },
  {
   "cell_type": "markdown",
   "id": "707d3774-acc1-4360-a7e0-259118b97087",
   "metadata": {},
   "source": [
    "Упражнение 7."
   ]
  },
  {
   "cell_type": "code",
   "execution_count": 41,
   "id": "ef7c2ba7-17ce-4e73-8b8f-cf303faf8548",
   "metadata": {},
   "outputs": [
    {
     "name": "stderr",
     "output_type": "stream",
     "text": [
      "C:\\Users\\Mokus\\AppData\\Local\\Packages\\PythonSoftwareFoundation.Python.3.10_qbz5n2kfra8p0\\LocalCache\\local-packages\\Python310\\site-packages\\sympy\\core\\function.py:1238: SymPyDeprecationWarning: \n",
      "\n",
      "The string fallback in sympify() is deprecated.\n",
      "\n",
      "To explicitly convert the string form of an object, use\n",
      "sympify(str(obj)). To add define sympify behavior on custom\n",
      "objects, use sympy.core.sympify.converter or define obj._sympy_\n",
      "(see the sympify() docstring).\n",
      "\n",
      "sympify() performed the string fallback resulting in the following string:\n",
      "\n",
      "'<function func71 at 0x0000012ECE341AB0>'\n",
      "\n",
      "See https://docs.sympy.org/latest/explanation/active-deprecations.html#deprecated-sympify-string-fallback\n",
      "for details.\n",
      "\n",
      "This has been deprecated since SymPy version 1.6. It\n",
      "will be removed in a future version of SymPy.\n",
      "\n",
      "  expr = sympify(expr)\n"
     ]
    },
    {
     "ename": "SympifyError",
     "evalue": "Sympify of expression 'could not parse '<function func71 at 0x0000012ECE341AB0>'' failed, because of exception being raised:\nSyntaxError: invalid syntax (<string>, line 1)",
     "output_type": "error",
     "traceback": [
      "\u001b[1;31m---------------------------------------------------------------------------\u001b[0m",
      "\u001b[1;31mValueError\u001b[0m                                Traceback (most recent call last)",
      "\u001b[1;31mValueError\u001b[0m: Error from parse_expr with transformed code: \"<Symbol ('function' )Symbol ('func71' )Symbol ('at' )Integer (0x0000012ECE341AB0 )>\"",
      "\nThe above exception was the direct cause of the following exception:\n",
      "\u001b[1;31mSyntaxError\u001b[0m                               Traceback (most recent call last)",
      "File \u001b[1;32m~\\AppData\\Local\\Packages\\PythonSoftwareFoundation.Python.3.10_qbz5n2kfra8p0\\LocalCache\\local-packages\\Python310\\site-packages\\sympy\\core\\sympify.py:496\u001b[0m, in \u001b[0;36msympify\u001b[1;34m(a, locals, convert_xor, strict, rational, evaluate)\u001b[0m\n\u001b[0;32m    495\u001b[0m     a \u001b[38;5;241m=\u001b[39m a\u001b[38;5;241m.\u001b[39mreplace(\u001b[38;5;124m'\u001b[39m\u001b[38;5;130;01m\\n\u001b[39;00m\u001b[38;5;124m'\u001b[39m, \u001b[38;5;124m'\u001b[39m\u001b[38;5;124m'\u001b[39m)\n\u001b[1;32m--> 496\u001b[0m     expr \u001b[38;5;241m=\u001b[39m \u001b[43mparse_expr\u001b[49m\u001b[43m(\u001b[49m\u001b[43ma\u001b[49m\u001b[43m,\u001b[49m\u001b[43m \u001b[49m\u001b[43mlocal_dict\u001b[49m\u001b[38;5;241;43m=\u001b[39;49m\u001b[38;5;28;43mlocals\u001b[39;49m\u001b[43m,\u001b[49m\u001b[43m \u001b[49m\u001b[43mtransformations\u001b[49m\u001b[38;5;241;43m=\u001b[39;49m\u001b[43mtransformations\u001b[49m\u001b[43m,\u001b[49m\u001b[43m \u001b[49m\u001b[43mevaluate\u001b[49m\u001b[38;5;241;43m=\u001b[39;49m\u001b[43mevaluate\u001b[49m\u001b[43m)\u001b[49m\n\u001b[0;32m    497\u001b[0m \u001b[38;5;28;01mexcept\u001b[39;00m (TokenError, \u001b[38;5;167;01mSyntaxError\u001b[39;00m) \u001b[38;5;28;01mas\u001b[39;00m exc:\n",
      "File \u001b[1;32m~\\AppData\\Local\\Packages\\PythonSoftwareFoundation.Python.3.10_qbz5n2kfra8p0\\LocalCache\\local-packages\\Python310\\site-packages\\sympy\\parsing\\sympy_parser.py:1101\u001b[0m, in \u001b[0;36mparse_expr\u001b[1;34m(s, local_dict, transformations, global_dict, evaluate)\u001b[0m\n\u001b[0;32m   1100\u001b[0m     local_dict[i] \u001b[38;5;241m=\u001b[39m null\n\u001b[1;32m-> 1101\u001b[0m \u001b[38;5;28;01mraise\u001b[39;00m e \u001b[38;5;28;01mfrom\u001b[39;00m \u001b[38;5;21;01mValueError\u001b[39;00m(\u001b[38;5;124mf\u001b[39m\u001b[38;5;124m\"\u001b[39m\u001b[38;5;124mError from parse_expr with transformed code: \u001b[39m\u001b[38;5;132;01m{\u001b[39;00mcode\u001b[38;5;132;01m!r}\u001b[39;00m\u001b[38;5;124m\"\u001b[39m)\n",
      "File \u001b[1;32m~\\AppData\\Local\\Packages\\PythonSoftwareFoundation.Python.3.10_qbz5n2kfra8p0\\LocalCache\\local-packages\\Python310\\site-packages\\sympy\\parsing\\sympy_parser.py:1092\u001b[0m, in \u001b[0;36mparse_expr\u001b[1;34m(s, local_dict, transformations, global_dict, evaluate)\u001b[0m\n\u001b[0;32m   1091\u001b[0m \u001b[38;5;28;01mtry\u001b[39;00m:\n\u001b[1;32m-> 1092\u001b[0m     rv \u001b[38;5;241m=\u001b[39m \u001b[43meval_expr\u001b[49m\u001b[43m(\u001b[49m\u001b[43mcode\u001b[49m\u001b[43m,\u001b[49m\u001b[43m \u001b[49m\u001b[43mlocal_dict\u001b[49m\u001b[43m,\u001b[49m\u001b[43m \u001b[49m\u001b[43mglobal_dict\u001b[49m\u001b[43m)\u001b[49m\n\u001b[0;32m   1093\u001b[0m     \u001b[38;5;66;03m# restore neutral definitions for names\u001b[39;00m\n",
      "File \u001b[1;32m~\\AppData\\Local\\Packages\\PythonSoftwareFoundation.Python.3.10_qbz5n2kfra8p0\\LocalCache\\local-packages\\Python310\\site-packages\\sympy\\parsing\\sympy_parser.py:907\u001b[0m, in \u001b[0;36meval_expr\u001b[1;34m(code, local_dict, global_dict)\u001b[0m\n\u001b[0;32m    902\u001b[0m \u001b[38;5;124;03m\"\"\"\u001b[39;00m\n\u001b[0;32m    903\u001b[0m \u001b[38;5;124;03mEvaluate Python code generated by ``stringify_expr``.\u001b[39;00m\n\u001b[0;32m    904\u001b[0m \n\u001b[0;32m    905\u001b[0m \u001b[38;5;124;03mGenerally, ``parse_expr`` should be used.\u001b[39;00m\n\u001b[0;32m    906\u001b[0m \u001b[38;5;124;03m\"\"\"\u001b[39;00m\n\u001b[1;32m--> 907\u001b[0m expr \u001b[38;5;241m=\u001b[39m \u001b[38;5;28;43meval\u001b[39;49m\u001b[43m(\u001b[49m\n\u001b[0;32m    908\u001b[0m \u001b[43m    \u001b[49m\u001b[43mcode\u001b[49m\u001b[43m,\u001b[49m\u001b[43m \u001b[49m\u001b[43mglobal_dict\u001b[49m\u001b[43m,\u001b[49m\u001b[43m \u001b[49m\u001b[43mlocal_dict\u001b[49m\u001b[43m)\u001b[49m  \u001b[38;5;66;03m# take local objects in preference\u001b[39;00m\n\u001b[0;32m    909\u001b[0m \u001b[38;5;28;01mreturn\u001b[39;00m expr\n",
      "\u001b[1;31mSyntaxError\u001b[0m: invalid syntax (<string>, line 1)",
      "\nDuring handling of the above exception, another exception occurred:\n",
      "\u001b[1;31mSympifyError\u001b[0m                              Traceback (most recent call last)",
      "Cell \u001b[1;32mIn [41], line 20\u001b[0m\n\u001b[0;32m     17\u001b[0m     x \u001b[38;5;241m=\u001b[39m sp\u001b[38;5;241m.\u001b[39msymbols(\u001b[38;5;124m'\u001b[39m\u001b[38;5;124mx\u001b[39m\u001b[38;5;124m'\u001b[39m)\n\u001b[0;32m     18\u001b[0m     \u001b[38;5;28;01mreturn\u001b[39;00m np\u001b[38;5;241m.\u001b[39me\u001b[38;5;241m*\u001b[39m\u001b[38;5;241m*\u001b[39m(\u001b[38;5;241m2\u001b[39m\u001b[38;5;241m*\u001b[39mx)\n\u001b[1;32m---> 20\u001b[0m \u001b[43mkasat\u001b[49m\u001b[43m(\u001b[49m\u001b[43mfunc71\u001b[49m\u001b[43m,\u001b[49m\u001b[43msp\u001b[49m\u001b[38;5;241;43m.\u001b[39;49m\u001b[43mpi\u001b[49m\u001b[38;5;241;43m/\u001b[39;49m\u001b[38;5;241;43m4\u001b[39;49m\u001b[43m)\u001b[49m\n",
      "Cell \u001b[1;32mIn [41], line 5\u001b[0m, in \u001b[0;36mkasat\u001b[1;34m(func, x0)\u001b[0m\n\u001b[0;32m      3\u001b[0m \u001b[38;5;28;01mdef\u001b[39;00m \u001b[38;5;21mkasat\u001b[39m (func,x0):\n\u001b[0;32m      4\u001b[0m     x \u001b[38;5;241m=\u001b[39m sp\u001b[38;5;241m.\u001b[39msymbols(\u001b[38;5;124m'\u001b[39m\u001b[38;5;124mx\u001b[39m\u001b[38;5;124m'\u001b[39m)\n\u001b[1;32m----> 5\u001b[0m     ys \u001b[38;5;241m=\u001b[39m \u001b[43msp\u001b[49m\u001b[38;5;241;43m.\u001b[39;49m\u001b[43mdiff\u001b[49m\u001b[43m(\u001b[49m\u001b[43mfunc\u001b[49m\u001b[43m,\u001b[49m\u001b[43mx\u001b[49m\u001b[43m,\u001b[49m\u001b[38;5;241;43m1\u001b[39;49m\u001b[43m)\u001b[49m\n\u001b[0;32m      6\u001b[0m     x \u001b[38;5;241m=\u001b[39m np\u001b[38;5;241m.\u001b[39marange(x0 \u001b[38;5;241m-\u001b[39m \u001b[38;5;241m1\u001b[39m, x0 \u001b[38;5;241m+\u001b[39m \u001b[38;5;241m1\u001b[39m,\u001b[38;5;241m0.1\u001b[39m)\n\u001b[0;32m      7\u001b[0m     ys \u001b[38;5;241m=\u001b[39m ys\u001b[38;5;241m.\u001b[39msubs(x,x0)\n",
      "File \u001b[1;32m~\\AppData\\Local\\Packages\\PythonSoftwareFoundation.Python.3.10_qbz5n2kfra8p0\\LocalCache\\local-packages\\Python310\\site-packages\\sympy\\core\\function.py:2492\u001b[0m, in \u001b[0;36mdiff\u001b[1;34m(f, *symbols, **kwargs)\u001b[0m\n\u001b[0;32m   2490\u001b[0m     \u001b[38;5;28;01mreturn\u001b[39;00m f\u001b[38;5;241m.\u001b[39mdiff(\u001b[38;5;241m*\u001b[39msymbols, \u001b[38;5;241m*\u001b[39m\u001b[38;5;241m*\u001b[39mkwargs)\n\u001b[0;32m   2491\u001b[0m kwargs\u001b[38;5;241m.\u001b[39msetdefault(\u001b[38;5;124m'\u001b[39m\u001b[38;5;124mevaluate\u001b[39m\u001b[38;5;124m'\u001b[39m, \u001b[38;5;28;01mTrue\u001b[39;00m)\n\u001b[1;32m-> 2492\u001b[0m \u001b[38;5;28;01mreturn\u001b[39;00m _derivative_dispatch(f, \u001b[38;5;241m*\u001b[39msymbols, \u001b[38;5;241m*\u001b[39m\u001b[38;5;241m*\u001b[39mkwargs)\n",
      "File \u001b[1;32m~\\AppData\\Local\\Packages\\PythonSoftwareFoundation.Python.3.10_qbz5n2kfra8p0\\LocalCache\\local-packages\\Python310\\site-packages\\sympy\\core\\function.py:1914\u001b[0m, in \u001b[0;36m_derivative_dispatch\u001b[1;34m(expr, *variables, **kwargs)\u001b[0m\n\u001b[0;32m   1912\u001b[0m     \u001b[38;5;28;01mfrom\u001b[39;00m \u001b[38;5;21;01msympy\u001b[39;00m\u001b[38;5;21;01m.\u001b[39;00m\u001b[38;5;21;01mtensor\u001b[39;00m\u001b[38;5;21;01m.\u001b[39;00m\u001b[38;5;21;01marray\u001b[39;00m\u001b[38;5;21;01m.\u001b[39;00m\u001b[38;5;21;01marray_derivatives\u001b[39;00m \u001b[38;5;28;01mimport\u001b[39;00m ArrayDerivative\n\u001b[0;32m   1913\u001b[0m     \u001b[38;5;28;01mreturn\u001b[39;00m ArrayDerivative(expr, \u001b[38;5;241m*\u001b[39mvariables, \u001b[38;5;241m*\u001b[39m\u001b[38;5;241m*\u001b[39mkwargs)\n\u001b[1;32m-> 1914\u001b[0m \u001b[38;5;28;01mreturn\u001b[39;00m Derivative(expr, \u001b[38;5;241m*\u001b[39mvariables, \u001b[38;5;241m*\u001b[39m\u001b[38;5;241m*\u001b[39mkwargs)\n",
      "File \u001b[1;32m~\\AppData\\Local\\Packages\\PythonSoftwareFoundation.Python.3.10_qbz5n2kfra8p0\\LocalCache\\local-packages\\Python310\\site-packages\\sympy\\core\\function.py:1238\u001b[0m, in \u001b[0;36mDerivative.__new__\u001b[1;34m(cls, expr, *variables, **kwargs)\u001b[0m\n\u001b[0;32m   1237\u001b[0m \u001b[38;5;28;01mdef\u001b[39;00m \u001b[38;5;21m__new__\u001b[39m(\u001b[38;5;28mcls\u001b[39m, expr, \u001b[38;5;241m*\u001b[39mvariables, \u001b[38;5;241m*\u001b[39m\u001b[38;5;241m*\u001b[39mkwargs):\n\u001b[1;32m-> 1238\u001b[0m     expr \u001b[38;5;241m=\u001b[39m \u001b[43msympify\u001b[49m\u001b[43m(\u001b[49m\u001b[43mexpr\u001b[49m\u001b[43m)\u001b[49m\n\u001b[0;32m   1239\u001b[0m     symbols_or_none \u001b[38;5;241m=\u001b[39m \u001b[38;5;28mgetattr\u001b[39m(expr, \u001b[38;5;124m\"\u001b[39m\u001b[38;5;124mfree_symbols\u001b[39m\u001b[38;5;124m\"\u001b[39m, \u001b[38;5;28;01mNone\u001b[39;00m)\n\u001b[0;32m   1240\u001b[0m     has_symbol_set \u001b[38;5;241m=\u001b[39m \u001b[38;5;28misinstance\u001b[39m(symbols_or_none, \u001b[38;5;28mset\u001b[39m)\n",
      "File \u001b[1;32m~\\AppData\\Local\\Packages\\PythonSoftwareFoundation.Python.3.10_qbz5n2kfra8p0\\LocalCache\\local-packages\\Python310\\site-packages\\sympy\\core\\sympify.py:498\u001b[0m, in \u001b[0;36msympify\u001b[1;34m(a, locals, convert_xor, strict, rational, evaluate)\u001b[0m\n\u001b[0;32m    496\u001b[0m     expr \u001b[38;5;241m=\u001b[39m parse_expr(a, local_dict\u001b[38;5;241m=\u001b[39m\u001b[38;5;28mlocals\u001b[39m, transformations\u001b[38;5;241m=\u001b[39mtransformations, evaluate\u001b[38;5;241m=\u001b[39mevaluate)\n\u001b[0;32m    497\u001b[0m \u001b[38;5;28;01mexcept\u001b[39;00m (TokenError, \u001b[38;5;167;01mSyntaxError\u001b[39;00m) \u001b[38;5;28;01mas\u001b[39;00m exc:\n\u001b[1;32m--> 498\u001b[0m     \u001b[38;5;28;01mraise\u001b[39;00m SympifyError(\u001b[38;5;124m'\u001b[39m\u001b[38;5;124mcould not parse \u001b[39m\u001b[38;5;132;01m%r\u001b[39;00m\u001b[38;5;124m'\u001b[39m \u001b[38;5;241m%\u001b[39m a, exc)\n\u001b[0;32m    500\u001b[0m \u001b[38;5;28;01mreturn\u001b[39;00m expr\n",
      "\u001b[1;31mSympifyError\u001b[0m: Sympify of expression 'could not parse '<function func71 at 0x0000012ECE341AB0>'' failed, because of exception being raised:\nSyntaxError: invalid syntax (<string>, line 1)"
     ]
    }
   ],
   "source": [
    "x = sp.symbols('x')\n",
    "\n",
    "def kasat (func,x0):\n",
    "    x = sp.symbols('x')\n",
    "    ys = sp.diff(func,x,1)\n",
    "    x = np.arange(x0 - 1, x0 + 1,0.1)\n",
    "    ys = ys.subs(x,x0)\n",
    "    funcx0 = func.subs(x,x0)\n",
    "    y = funcx0 + ys*(x - x0)\n",
    "    plt.plot(x,y,'r')\n",
    "\n",
    "def func71 (x):\n",
    "    x = sp.symbols('x')\n",
    "    return sp.cos(3*x)**3\n",
    "\n",
    "def func72 (x):\n",
    "    x = sp.symbols('x')\n",
    "    return np.e**(2*x)\n",
    "\n",
    "kasat(func71,sp.pi/4)"
   ]
  },
  {
   "cell_type": "markdown",
   "id": "40324f3c-eb0d-40c4-82dc-473cb61bef33",
   "metadata": {},
   "source": [
    "C1"
   ]
  },
  {
   "cell_type": "code",
   "execution_count": 43,
   "id": "3293d43d-09ef-4fc0-b74a-056d91af8c45",
   "metadata": {},
   "outputs": [
    {
     "name": "stdout",
     "output_type": "stream",
     "text": [
      "df / dx =  -1.35241314809081\n",
      "df / dx =  -1.35649134314142\n",
      "df / dx =  -0.0578759172651828\n",
      "df / dx =  -0.0580320401109245\n",
      "df / dx =  -0.00602254127674180\n",
      "df / dx =  -0.00601103853127300\n"
     ]
    }
   ],
   "source": [
    "def otnc1 (func, dx, x0):\n",
    "    df = func(x0 + dx) - func(x0)\n",
    "    return df / dx\n",
    "\n",
    "def funcc1 (x):\n",
    "    return sp.sin(1/x)**5\n",
    "\n",
    "for x0 in [1, 2, -3]:\n",
    "    for dx in [0.001, -0.001]:\n",
    "        print('df / dx = ',otn2(funcc1,dx,x0))"
   ]
  },
  {
   "cell_type": "markdown",
   "id": "368cd779-4af5-4507-870d-66b2ce8abf7b",
   "metadata": {},
   "source": [
    "C2"
   ]
  },
  {
   "cell_type": "code",
   "execution_count": 44,
   "id": "f14cf947-f928-4aeb-8df3-ef916c7b4f97",
   "metadata": {},
   "outputs": [
    {
     "name": "stdout",
     "output_type": "stream",
     "text": [
      "f* =  0.0339792392254926\n",
      "f* =  0.809798030609119\n",
      "f* =  -0.180642266021553\n",
      "f* =  0.205970631403333\n",
      "f* =  0.130103655364029\n",
      "f* =  -0.127603651460039\n"
     ]
    }
   ],
   "source": [
    "for x0 in [1, 2, -3]:\n",
    "    for dx in [0.001, -0.001]:\n",
    "        print('f* = ',proizv(funcc1,dx,x0))"
   ]
  },
  {
   "cell_type": "markdown",
   "id": "61b2a0bc-54eb-49c9-ad5c-c727c7d64919",
   "metadata": {},
   "source": [
    "C3"
   ]
  },
  {
   "cell_type": "code",
   "execution_count": 45,
   "id": "4308f48e-61f9-40c3-b871-e4a15d92e7b6",
   "metadata": {},
   "outputs": [
    {
     "name": "stdout",
     "output_type": "stream",
     "text": [
      "f* =  0.365818416643849/log(3)\n",
      "f* =  0.361175314721873/log(3)\n"
     ]
    }
   ],
   "source": [
    "def funcc3 (x):\n",
    "    return (sp.log(x**2 + 1,3))/(sp.acos(sp.sin(x))**3)\n",
    "for dx in [0.001, -0.001]:\n",
    "    print('f* = ',proizv(funcc3,dx,0.5))"
   ]
  }
 ],
 "metadata": {
  "kernelspec": {
   "display_name": "Python 3 (ipykernel)",
   "language": "python",
   "name": "python3"
  },
  "language_info": {
   "codemirror_mode": {
    "name": "ipython",
    "version": 3
   },
   "file_extension": ".py",
   "mimetype": "text/x-python",
   "name": "python",
   "nbconvert_exporter": "python",
   "pygments_lexer": "ipython3",
   "version": "3.10.9"
  }
 },
 "nbformat": 4,
 "nbformat_minor": 5
}
