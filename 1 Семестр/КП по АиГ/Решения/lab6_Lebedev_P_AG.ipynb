{
 "cells": [
  {
   "cell_type": "code",
   "execution_count": 1,
   "id": "b51f4af8-e043-4e16-a26b-990359c52370",
   "metadata": {},
   "outputs": [],
   "source": [
    "import numpy as np\n",
    "import matplotlib.pyplot as plt\n",
    "import math\n",
    "from sympy import *\n",
    "from matplotlib import cm"
   ]
  },
  {
   "cell_type": "code",
   "execution_count": 4,
   "id": "936b32a4-4046-4eb0-b941-e774a7688608",
   "metadata": {},
   "outputs": [
    {
     "name": "stdout",
     "output_type": "stream",
     "text": [
      "Ответ 2 -4\n"
     ]
    },
    {
     "data": {
      "image/png": "[encoded data removed]",
      "text/plain": [
       "<Figure size 432x288 with 1 Axes>"
      ]
     },
     "metadata": {
      "needs_background": "light"
     },
     "output_type": "display_data"
    }
   ],
   "source": [
    "x = 4; y = -1; a = 2; b = 3\n",
    "x1 = x - a; y1 = y - b\n",
    "print('Ответ', x1, y1)\n",
    "plt.arrow(-2, 0, 7, 0, width=0.08, color='black')\n",
    "plt.arrow(0, -2, 0, 7, width=0.08, color='black')\n",
    "plt.arrow(2, 3, 1, 0, width=0.08, color='blue')\n",
    "plt.arrow(2, 3, 0, 1, width=0.08, color='blue')\n",
    "plt.plot(x, y, 'or')\n",
    "plt.text(x + 0.3, y - 0.3, 'A')\n",
    "plt.text(0.3, -0.5, 'O')\n",
    "plt.text(a + 0.3, b - 0.5, '$O_1$')\n",
    "plt.xlabel('x'); plt.ylabel('y')\n",
    "plt.axis('equal')\n",
    "plt.grid()\n",
    "plt.show()\n"
   ]
  },
  {
   "cell_type": "code",
   "execution_count": null,
   "id": "aa3f9c6c-0116-48b5-9e7b-bfaa4a58d8fa",
   "metadata": {},
   "outputs": [],
   "source": [
    "x1 = 2; y1 = -4; alfa = np.pi/4\n",
    "x = x1 * np.cos(alfa) – y1 * np.sin(alfa)\n",
    "y = y1 * np.cos(alfa) + x1 * np.sin(alfa)\n",
    "print('Ответ:', x, y)\n",
    "# Проверка\n",
    "x2 = x * np.cos(-alfa) – y * np.sin(-alfa)\n",
    "y2 = y * np.cos(-alfa) + x * np.sin(-alfa)\n",
    "print('Проверка:', x2, y2)\n",
    "plt.arrow(-1, 0, 6, 0, width=0.08, color='black')\n",
    "plt.arrow(0, -2, 0, 7, width=0.08, color='black')\n",
    "x3 = np.cos(-alfa); y3 = - np.sin(-alfa)\n",
    "x4 = np.sin(-alfa); y4 = np.cos(-alfa)\n",
    "plt.arrow(0, 0, x3, y3, width=0.08, color='blue')\n",
    "plt.arrow(0, 0, x4, y4, width=0.08, color='blue')\n",
    "plt.plot(x, y, 'or')\n",
    "plt.text(x + 0.2, y, 'A')\n",
    "plt.xlabel('x'); plt.ylabel(‘y')\n",
    "plt.axis('equal')\n",
    "plt.grid()\n",
    "plt.show()\n"
   ]
  },
  {
   "cell_type": "markdown",
   "id": "4ca4d006-23ae-4eb1-89bc-a52df3c0dcbf",
   "metadata": {},
   "source": [
    "6.1"
   ]
  },
  {
   "cell_type": "code",
   "execution_count": 45,
   "id": "69770b8d-d430-4798-9f1c-7066deb7b11c",
   "metadata": {},
   "outputs": [
    {
     "name": "stdout",
     "output_type": "stream",
     "text": [
      "Ответ: 3.7320508075688776 2.464101615137754\n"
     ]
    },
    {
     "data": {
      "image/png": "[encoded data removed]",
      "text/plain": [
       "<Figure size 432x288 with 1 Axes>"
      ]
     },
     "metadata": {
      "needs_background": "light"
     },
     "output_type": "display_data"
    }
   ],
   "source": [
    "x = 2*np.sqrt(3); y = -np.sqrt(3); a = -1; b = -2\n",
    "alfa = np.pi/6\n",
    "x1 = x - a; y1 = y - b\n",
    "x = x1 * np.cos(alfa) - y1 * np.sin(alfa)\n",
    "y = y1 * np.cos(alfa) + x1 * np.sin(alfa)\n",
    "print('Ответ:', x, y)\n",
    "x2 = 1 * np.cos(alfa) - 0 * np.sin(alfa)\n",
    "y2 = 0 * np.cos(alfa) + 1 * np.sin(alfa)\n",
    "#print('Ответ:', x2, y2)\n",
    "\n",
    "plt.arrow(-2, 0, 7, 0, width=0.08, color='black')\n",
    "plt.arrow(0, -2, 0, 7, width=0.08, color='black')\n",
    "plt.arrow(-1, -2, 1, 0.5, width=0.08, color='blue')\n",
    "plt.arrow(-1, -2, -0.866, 1, width=0.08, color='blue')\n",
    "plt.plot(x, y, 'or')\n",
    "plt.text(x + 0.3, y - 0.3, 'A')\n",
    "plt.text(0.3, -0.5, 'O')\n",
    "plt.text(a + 0.3, b - 0.5, '$O_1$')\n",
    "plt.xlabel('x'); plt.ylabel('y')\n",
    "plt.axis('equal')\n",
    "plt.grid()\n",
    "plt.show()"
   ]
  },
  {
   "cell_type": "markdown",
   "id": "ca0e434f-cc1a-430e-95e4-5120705b2999",
   "metadata": {},
   "source": [
    "6.2"
   ]
  },
  {
   "cell_type": "code",
   "execution_count": 32,
   "id": "6d6b38f3-81a4-4d19-b78a-d6d8384d1094",
   "metadata": {},
   "outputs": [
    {
     "name": "stdout",
     "output_type": "stream",
     "text": [
      "M: -2 -4\n",
      "Уравнение повернутой прямой: x1/3\n"
     ]
    },
    {
     "data": {
      "image/png": "[encoded data removed]",
      "text/plain": [
       "<Figure size 432x288 with 1 Axes>"
      ]
     },
     "metadata": {
      "needs_background": "light"
     },
     "output_type": "display_data"
    }
   ],
   "source": [
    "xm = 1; ym = -2; a = 3; b = 2\n",
    "xm = xm - a; ym = ym - b\n",
    "alfa = - np.pi / 4\n",
    "A = np.matrix([[np.cos(alfa), -np.sin(alfa)], [np.sin(alfa), np.cos(alfa)]])\n",
    "x = np.linspace(-1, 2, 30)\n",
    "y = 2 * x - 4\n",
    "B = np.matrix([[3],[2]])\n",
    "X = np.concatenate(([x], [y]), axis=0)# соединение массивов\n",
    "Y = A * X + B\n",
    "x2 = xm * np.cos(-alfa) - ym * np.sin(-alfa)\n",
    "y2 = ym * np.cos(-alfa) + xm * np.sin(-alfa)\n",
    "print('M:',xm,ym)\n",
    "x1,y1,al = symbols('x1 y1 al')\n",
    "y1 = x1 * (-sin(al) + 2 * cos(al)) / (2 * sin(al) + cos(al))\n",
    "yy = y1.subs(al, pi / 4)\n",
    "print('Уравнение повернутой прямой:', yy)\n",
    "\n",
    "plt.plot(x, y)\n",
    "plt.plot(Y[0].T, Y[1].T)\n",
    "plt.plot(1,-2,'or')# точка М\n",
    "plt.plot(x2,y2,'og') # точка М1\n",
    "plt.grid()\n",
    "plt.show()\n",
    "\n"
   ]
  },
  {
   "cell_type": "markdown",
   "id": "15fe164e-3dec-45fc-96e3-1c60f5d8cb33",
   "metadata": {},
   "source": [
    "6.3"
   ]
  },
  {
   "cell_type": "code",
   "execution_count": 50,
   "id": "e3cf2298-52e8-4771-b47d-4306a60f720a",
   "metadata": {},
   "outputs": [
    {
     "ename": "ValueError",
     "evalue": "shapes (2,2) and (1,2) not aligned: 2 (dim 1) != 1 (dim 0)",
     "output_type": "error",
     "traceback": [
      "\u001b[1;31m---------------------------------------------------------------------------\u001b[0m",
      "\u001b[1;31mValueError\u001b[0m                                Traceback (most recent call last)",
      "Input \u001b[1;32mIn [50]\u001b[0m, in \u001b[0;36m<cell line: 9>\u001b[1;34m()\u001b[0m\n\u001b[0;32m      7\u001b[0m B \u001b[38;5;241m=\u001b[39m np\u001b[38;5;241m.\u001b[39mmatrix([[\u001b[38;5;241m3\u001b[39m],[\u001b[38;5;241m2\u001b[39m]])\n\u001b[0;32m      8\u001b[0m X \u001b[38;5;241m=\u001b[39m np\u001b[38;5;241m.\u001b[39mconcatenate(([x], [y]), axis\u001b[38;5;241m=\u001b[39m\u001b[38;5;241m0\u001b[39m)\u001b[38;5;66;03m# соединение массивов\u001b[39;00m\n\u001b[1;32m----> 9\u001b[0m Y \u001b[38;5;241m=\u001b[39m \u001b[43mA\u001b[49m\u001b[43m \u001b[49m\u001b[38;5;241;43m*\u001b[39;49m\u001b[43m \u001b[49m\u001b[43mX\u001b[49m \u001b[38;5;241m+\u001b[39m B\n\u001b[0;32m     10\u001b[0m x2 \u001b[38;5;241m=\u001b[39m xm \u001b[38;5;241m*\u001b[39m np\u001b[38;5;241m.\u001b[39mcos(\u001b[38;5;241m-\u001b[39malfa) \u001b[38;5;241m-\u001b[39m ym \u001b[38;5;241m*\u001b[39m np\u001b[38;5;241m.\u001b[39msin(\u001b[38;5;241m-\u001b[39malfa)\n\u001b[0;32m     11\u001b[0m y2 \u001b[38;5;241m=\u001b[39m ym \u001b[38;5;241m*\u001b[39m np\u001b[38;5;241m.\u001b[39mcos(\u001b[38;5;241m-\u001b[39malfa) \u001b[38;5;241m+\u001b[39m xm \u001b[38;5;241m*\u001b[39m np\u001b[38;5;241m.\u001b[39msin(\u001b[38;5;241m-\u001b[39malfa)\n",
      "File \u001b[1;32mC:\\Programs\\Anaconda3\\lib\\site-packages\\numpy\\matrixlib\\defmatrix.py:218\u001b[0m, in \u001b[0;36mmatrix.__mul__\u001b[1;34m(self, other)\u001b[0m\n\u001b[0;32m    215\u001b[0m \u001b[38;5;28;01mdef\u001b[39;00m \u001b[38;5;21m__mul__\u001b[39m(\u001b[38;5;28mself\u001b[39m, other):\n\u001b[0;32m    216\u001b[0m     \u001b[38;5;28;01mif\u001b[39;00m \u001b[38;5;28misinstance\u001b[39m(other, (N\u001b[38;5;241m.\u001b[39mndarray, \u001b[38;5;28mlist\u001b[39m, \u001b[38;5;28mtuple\u001b[39m)) :\n\u001b[0;32m    217\u001b[0m         \u001b[38;5;66;03m# This promotes 1-D vectors to row vectors\u001b[39;00m\n\u001b[1;32m--> 218\u001b[0m         \u001b[38;5;28;01mreturn\u001b[39;00m \u001b[43mN\u001b[49m\u001b[38;5;241;43m.\u001b[39;49m\u001b[43mdot\u001b[49m\u001b[43m(\u001b[49m\u001b[38;5;28;43mself\u001b[39;49m\u001b[43m,\u001b[49m\u001b[43m \u001b[49m\u001b[43masmatrix\u001b[49m\u001b[43m(\u001b[49m\u001b[43mother\u001b[49m\u001b[43m)\u001b[49m\u001b[43m)\u001b[49m\n\u001b[0;32m    219\u001b[0m     \u001b[38;5;28;01mif\u001b[39;00m isscalar(other) \u001b[38;5;129;01mor\u001b[39;00m \u001b[38;5;129;01mnot\u001b[39;00m \u001b[38;5;28mhasattr\u001b[39m(other, \u001b[38;5;124m'\u001b[39m\u001b[38;5;124m__rmul__\u001b[39m\u001b[38;5;124m'\u001b[39m) :\n\u001b[0;32m    220\u001b[0m         \u001b[38;5;28;01mreturn\u001b[39;00m N\u001b[38;5;241m.\u001b[39mdot(\u001b[38;5;28mself\u001b[39m, other)\n",
      "File \u001b[1;32m<__array_function__ internals>:5\u001b[0m, in \u001b[0;36mdot\u001b[1;34m(*args, **kwargs)\u001b[0m\n",
      "\u001b[1;31mValueError\u001b[0m: shapes (2,2) and (1,2) not aligned: 2 (dim 1) != 1 (dim 0)"
     ]
    }
   ],
   "source": [
    "xm = 2*np.sqrt(3); ym = -np.sqrt(3); a = -1; b = -2\n",
    "xm = xm - a; ym = ym - b\n",
    "alfa = - np.pi / 6\n",
    "A = np.matrix([[np.cos(alfa), -np.sin(alfa)], [np.sin(alfa), np.cos(alfa)]])\n",
    "x = xm\n",
    "y = ym\n",
    "B = np.matrix([[3],[2]])\n",
    "X = np.concatenate(([x], [y]), axis=0)# соединение массивов\n",
    "Y = A * X + B\n",
    "x2 = xm * np.cos(-alfa) - ym * np.sin(-alfa)\n",
    "y2 = ym * np.cos(-alfa) + xm * np.sin(-alfa)\n",
    "print('M:',xm,ym)\n",
    "x1,y1,al = symbols('x1 y1 al')\n",
    "y1 = x1 * (-sin(al) + 2 * cos(al)) / (2 * sin(al) + cos(al))\n",
    "yy = y1.subs(al, pi / 4)\n",
    "print('Уравнение повернутой прямой:', yy)\n",
    "\n",
    "plt.plot(x, y)\n",
    "plt.plot(Y[0].T, Y[1].T)\n",
    "plt.plot(1,-2,'or')# точка М\n",
    "plt.plot(x2,y2,'og') # точка М1\n",
    "plt.grid()\n",
    "plt.show()"
   ]
  },
  {
   "cell_type": "code",
   "execution_count": 83,
   "id": "b1526c78-f77d-4ce7-a9d9-e7342ce0c7cc",
   "metadata": {},
   "outputs": [
    {
     "name": "stdout",
     "output_type": "stream",
     "text": [
      "0.0 4.243\n"
     ]
    },
    {
     "data": {
      "image/png": "[encoded data removed]",
      "text/plain": [
       "<Figure size 432x288 with 1 Axes>"
      ]
     },
     "metadata": {
      "needs_background": "light"
     },
     "output_type": "display_data"
    }
   ],
   "source": [
    "a = 2\n",
    "b = 2\n",
    "alfa = np.pi/4\n",
    "\n",
    "A = np.array([2,2])\n",
    "B = np.array([4,2])\n",
    "C = np.array([4,4])\n",
    "D = np.array([2,4])\n",
    "O = np.array([0,0])\n",
    "O1 = np.array([a,b])\n",
    "D = np.array([3,3])\n",
    "\n",
    "AB = B - A\n",
    "BC = C - B\n",
    "CD = D - C\n",
    "DA = A - D\n",
    "\n",
    "ox = round((D[0] * cos(alfa) - D[1] * sin(alfa)),3)\n",
    "oy = round((D[0] * cos(alfa) + D[1] * sin(alfa)),3)\n",
    "\n",
    "print(ox,oy)\n",
    "\n",
    "\n",
    "plt.arrow(A[0],A[1],AB[0],AB[1], width=0.02, color='black')\n",
    "plt.arrow(B[0],B[1],BC[0],BC[1], width=0.02, color='black')\n",
    "plt.arrow(C[0],C[1],CD[0],CD[1], width=0.02, color='blue')\n",
    "plt.arrow(D[0],D[1],DA[0],DA[1], width=0.02, color='blue')\n",
    "plt.plot(A[0],A[1],'or')\n",
    "plt.plot(B[0],B[1],'or')\n",
    "plt.plot(C[0],C[1],'or')\n",
    "plt.plot(D[0],D[1],'or')\n",
    "plt.arrow(O[0],O[1], 7, 0, width=0.08, color='black')\n",
    "plt.arrow(O[0],O[1], 0, 7, width=0.08, color='black')\n",
    "plt.arrow(O1[0],O1[1], 0, 4.2, width=0.08, color='blue')\n",
    "plt.arrow(O1[0],O1[1], 4.2, 0, width=0.08, color='blue')\n",
    "plt.grid()"
   ]
  },
  {
   "cell_type": "code",
   "execution_count": null,
   "id": "a4fbd5c7-bd05-47ba-87bf-a14c366b9b98",
   "metadata": {},
   "outputs": [],
   "source": []
  }
 ],
 "metadata": {
  "kernelspec": {
   "display_name": "Python 3 (ipykernel)",
   "language": "python",
   "name": "python3"
  },
  "language_info": {
   "codemirror_mode": {
    "name": "ipython",
    "version": 3
   },
   "file_extension": ".py",
   "mimetype": "text/x-python",
   "name": "python",
   "nbconvert_exporter": "python",
   "pygments_lexer": "ipython3",
   "version": "3.9.12"
  }
 },
 "nbformat": 4,
 "nbformat_minor": 5
}
