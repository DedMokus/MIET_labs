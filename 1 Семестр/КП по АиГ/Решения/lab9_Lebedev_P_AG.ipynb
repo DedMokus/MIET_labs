{
 "cells": [
  {
   "cell_type": "code",
   "execution_count": 1,
   "id": "4216e097-14e0-4b3f-8695-1f18c2bf48cf",
   "metadata": {},
   "outputs": [],
   "source": [
    "import numpy as np\n",
    "import sympy as sp\n",
    "import matplotlib.pyplot as plt"
   ]
  },
  {
   "cell_type": "markdown",
   "id": "5d6defc1-ce15-49ec-801d-89d9d1ca8ec0",
   "metadata": {},
   "source": [
    "1."
   ]
  },
  {
   "cell_type": "code",
   "execution_count": 67,
   "id": "6fa65b16-d717-430c-993e-398aa539f19f",
   "metadata": {},
   "outputs": [
    {
     "name": "stdout",
     "output_type": "stream",
     "text": [
      "Matrix([[-2], [10], [4]])\n"
     ]
    }
   ],
   "source": [
    "A1 = sp.Matrix([[-1,2,0],[2,-1,1],[-4,5,-1],[3,-3,1]])\n",
    "B1 = sp.Matrix([[-1,2,0],[2,-1,1]])\n",
    "va1 = sp.Matrix([[4],[1],[3]])\n",
    "B1 = B1.row_insert(2,sp.Matrix([[1,0,0]]))\n",
    "XB = B1*va1\n",
    "print(XB)"
   ]
  },
  {
   "cell_type": "markdown",
   "id": "3387fd21-faf3-410a-a0c6-0fc34d4bf4d4",
   "metadata": {},
   "source": [
    "2."
   ]
  },
  {
   "cell_type": "code",
   "execution_count": 44,
   "id": "76edb833-18d0-47d6-b1d9-ab53bad69b65",
   "metadata": {},
   "outputs": [
    {
     "name": "stdout",
     "output_type": "stream",
     "text": [
      "Matrix([[1, 1, 1, 1], [1, 1, -1, -1], [1, -1, 1, -1], [1, -1, -1, 1]])\n",
      "Matrix([[5], [1], [-1], [-1]])\n"
     ]
    }
   ],
   "source": [
    "A2 = sp.Matrix([[1,1,1,1],[1,1,-1,-1],[1,-1,1,-1],[1,-1,-1,1]])\n",
    "X2 = sp.Matrix([[1],[2],[1],[1]])\n",
    "T2 = A2.rref()\n",
    "print(A2*X2)"
   ]
  },
  {
   "cell_type": "markdown",
   "id": "0b9cf315-0455-4bff-b97d-e44836cf4d46",
   "metadata": {},
   "source": [
    "3."
   ]
  },
  {
   "cell_type": "code",
   "execution_count": 70,
   "id": "ecaadebe-f51f-4d30-b962-f425bd6badcc",
   "metadata": {},
   "outputs": [
    {
     "name": "stdout",
     "output_type": "stream",
     "text": [
      "(Matrix([\n",
      "[1, 0, 2/3],\n",
      "[0, 1, 1/3],\n",
      "[0, 0,   0],\n",
      "[0, 0,   0]]), (0, 1))\n"
     ]
    }
   ],
   "source": [
    "A3 = sp.Matrix([[-1,2,0],[2,-1,1],[-4,5,-1],[3,-3,1]])\n",
    "T3 = A3.rref()\n",
    "print(T3)"
   ]
  },
  {
   "cell_type": "markdown",
   "id": "99ef595b-1033-43f3-8664-dcfdc50a845d",
   "metadata": {},
   "source": [
    "4."
   ]
  },
  {
   "cell_type": "code",
   "execution_count": 75,
   "id": "cdbb8894-1191-41fa-bfeb-d68c140b1a72",
   "metadata": {},
   "outputs": [
    {
     "name": "stdout",
     "output_type": "stream",
     "text": [
      "⎡⎡1⎤  ⎡-1/2⎤⎤\n",
      "⎢⎢ ⎥, ⎢    ⎥⎥\n",
      "⎣⎣1⎦  ⎣1/2 ⎦⎦\n",
      "⎡⎡1⎤  ⎡1/3 ⎤  ⎡-5/2⎤⎤\n",
      "⎢⎢ ⎥  ⎢    ⎥  ⎢    ⎥⎥\n",
      "⎢⎢1⎥, ⎢-2/3⎥, ⎢ 0  ⎥⎥\n",
      "⎢⎢ ⎥  ⎢    ⎥  ⎢    ⎥⎥\n",
      "⎣⎣1⎦  ⎣1/3 ⎦  ⎣5/2 ⎦⎦\n",
      "X1:  [[-3.]\n",
      " [ 5.]]\n",
      "X2:  [[ 2.96666667]\n",
      " [-1.33333333]\n",
      " [ 3.36666667]]\n"
     ]
    }
   ],
   "source": [
    "L1 = [sp.Matrix([1,1]),sp.Matrix([0,1])]\n",
    "o1 = sp.GramSchmidt(L1)\n",
    "\n",
    "L2 = [sp.Matrix([1,1,1]),sp.Matrix([2,1,2]),sp.Matrix([-3,0,2])]\n",
    "o2 = sp.GramSchmidt(L2)\n",
    "\n",
    "sp.pprint(o1)\n",
    "sp.pprint(o2)\n",
    "\n",
    "V1 = sp.Matrix([[2],[4]])\n",
    "V2 = sp.Matrix([[5],[3],[1]])\n",
    "\n",
    "A41 = np.matrix('1 1;-0.5 0.5')\n",
    "A42 = np.matrix('6 6 6;2 -4 2;-15 0 15')\n",
    "B41 = np.matrix('2;4')\n",
    "B42 = np.matrix('30;18;6')\n",
    "A1_inv = np.linalg.inv(A41)\n",
    "A2_inv = np.linalg.inv(A42)\n",
    "X1 = A1_inv.dot(B41)\n",
    "print('X1: ',X1)\n",
    "X2 = A2_inv.dot(B42)\n",
    "print('X2: ',X2)"
   ]
  },
  {
   "cell_type": "markdown",
   "id": "9885d50d-f36a-468b-8063-f8652ff7e9fd",
   "metadata": {},
   "source": [
    "5."
   ]
  },
  {
   "cell_type": "code",
   "execution_count": 60,
   "id": "d6ab8a0a-fb04-4a27-a938-a6a3fa1ce6f4",
   "metadata": {},
   "outputs": [
    {
     "name": "stdout",
     "output_type": "stream",
     "text": [
      "Matrix([[69, 83/2], [-98, -59]])\n"
     ]
    }
   ],
   "source": [
    "A5 = sp.Matrix([[8,4],[5,2]])\n",
    "T5 = sp.Matrix([[2,1],[6,4]])\n",
    "T5m = T5.inv()\n",
    "A5m = T5m*A5*T5\n",
    "print(A5m)"
   ]
  },
  {
   "cell_type": "markdown",
   "id": "e1d42748-b2f8-4e5d-a5f0-6696cb9cf7ab",
   "metadata": {},
   "source": [
    "6."
   ]
  },
  {
   "cell_type": "code",
   "execution_count": 63,
   "id": "594da156-68fc-4802-bec9-caebf0ed5af0",
   "metadata": {},
   "outputs": [
    {
     "name": "stdout",
     "output_type": "stream",
     "text": [
      "Matrix([[4, 3, 1, 1], [0, -2, 0, 1], [7, 8, 3, -1], [-4, -3, 0, 2]])\n"
     ]
    }
   ],
   "source": [
    "A6 = sp.Matrix([[1,2,0,1],[3,0,-1,2],[2,5,3,1],[1,2,1,3]])\n",
    "T6 = sp.Matrix([[1,0,0,0],[1,1,0,0],[1,1,1,0],[1,1,1,1]])\n",
    "T6m = T6.inv()\n",
    "A6m = T6m * A6 * T6\n",
    "print(A6m)"
   ]
  },
  {
   "cell_type": "markdown",
   "id": "8ce6d2a1-83ee-44a3-8e07-38e4639102e7",
   "metadata": {},
   "source": [
    "7."
   ]
  },
  {
   "cell_type": "code",
   "execution_count": 66,
   "id": "de65063e-79f6-4737-8e5d-1d1fb3aee81a",
   "metadata": {},
   "outputs": [
    {
     "name": "stdout",
     "output_type": "stream",
     "text": [
      "[[-1. -2.  4.]\n",
      " [ 0. -1.  1.]\n",
      " [ 2.  0.  0.]]\n",
      "⎡-1.0  1.0  2.0 ⎤\n",
      "⎢               ⎥\n",
      "⎢1.0   1.0  -2.0⎥\n",
      "⎢               ⎥\n",
      "⎣1.0   1.0  4.0 ⎦\n"
     ]
    }
   ],
   "source": [
    "A = sp.Matrix([[-1, 1, 2], [1, 1, -2], [1, 1, 4]])\n",
    "B = np.matrix('1, -2, 1; -1, 2, 1; -1, 3, 1')\n",
    "BB = np.matrix('1, 0, 2; 3, 0, -2; 3, -1, -1')\n",
    "B_inv = np.linalg.inv(B)\n",
    "NB = B_inv * BB\n",
    "NB_inv = np.linalg.inv(NB)\n",
    "\n",
    "sp.pprint(NB_inv * NB * A)"
   ]
  },
  {
   "cell_type": "markdown",
   "id": "8e381136-d9ca-4324-8d40-b905edb422ff",
   "metadata": {},
   "source": [
    "C1"
   ]
  },
  {
   "cell_type": "code",
   "execution_count": 73,
   "id": "5dd75175-b846-4bc6-be94-a2ce8c4b42d5",
   "metadata": {},
   "outputs": [
    {
     "name": "stdout",
     "output_type": "stream",
     "text": [
      "⎡⎡1⎤  ⎡2 ⎤  ⎡-1⎤⎤\n",
      "⎢⎢ ⎥  ⎢  ⎥  ⎢  ⎥⎥\n",
      "⎢⎢1⎥  ⎢2 ⎥  ⎢1 ⎥⎥\n",
      "⎢⎢ ⎥, ⎢  ⎥, ⎢  ⎥⎥\n",
      "⎢⎢1⎥  ⎢-2⎥  ⎢-1⎥⎥\n",
      "⎢⎢ ⎥  ⎢  ⎥  ⎢  ⎥⎥\n",
      "⎣⎣1⎦  ⎣-2⎦  ⎣1 ⎦⎦\n",
      "⎡⎡1 ⎤  ⎡2 ⎤  ⎡2 ⎤⎤\n",
      "⎢⎢  ⎥  ⎢  ⎥  ⎢  ⎥⎥\n",
      "⎢⎢2 ⎥  ⎢3 ⎥  ⎢-1⎥⎥\n",
      "⎢⎢  ⎥, ⎢  ⎥, ⎢  ⎥⎥\n",
      "⎢⎢2 ⎥  ⎢-3⎥  ⎢-1⎥⎥\n",
      "⎢⎢  ⎥  ⎢  ⎥  ⎢  ⎥⎥\n",
      "⎣⎣-1⎦  ⎣2 ⎦  ⎣-2⎦⎦\n"
     ]
    }
   ],
   "source": [
    "LC1 = [sp.Matrix([1,1,1,1]),sp.Matrix([3,3,-1,-1]),sp.Matrix([-2,0,6,8])]\n",
    "LC2 = [sp.Matrix([1,2,2,-1]),sp.Matrix([1,1,-5,3]),sp.Matrix([3,2,8,-7])]\n",
    "oc1 = sp.GramSchmidt(LC1)\n",
    "oc2 = sp.GramSchmidt(LC2)\n",
    "sp.pprint(oc1)\n",
    "sp.pprint(oc2)"
   ]
  }
 ],
 "metadata": {
  "kernelspec": {
   "display_name": "Python 3 (ipykernel)",
   "language": "python",
   "name": "python3"
  },
  "language_info": {
   "codemirror_mode": {
    "name": "ipython",
    "version": 3
   },
   "file_extension": ".py",
   "mimetype": "text/x-python",
   "name": "python",
   "nbconvert_exporter": "python",
   "pygments_lexer": "ipython3",
   "version": "3.10.10"
  }
 },
 "nbformat": 4,
 "nbformat_minor": 5
}
