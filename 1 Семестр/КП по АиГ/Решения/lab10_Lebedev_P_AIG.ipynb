{
 "cells": [
  {
   "cell_type": "code",
   "execution_count": 1,
   "id": "63b05399-0d5c-4661-acbb-8a80e3eed561",
   "metadata": {},
   "outputs": [],
   "source": [
    "import numpy as np\n",
    "from sympy import *\n",
    "import matplotlib.pyplot as plt"
   ]
  },
  {
   "cell_type": "code",
   "execution_count": 2,
   "id": "5252d5c9-a4d4-4442-ba24-5306d95a7065",
   "metadata": {},
   "outputs": [
    {
     "name": "stdout",
     "output_type": "stream",
     "text": [
      "⎡2  1  4⎤\n",
      "⎢       ⎥\n",
      "⎢3  1  1⎥\n",
      "⎢       ⎥\n",
      "⎣3  1  7⎦\n"
     ]
    }
   ],
   "source": [
    "#1\n",
    "A = Matrix([[1, -3, 1],\n",
    "            [3, -3, -1],\n",
    "            [3, -5, 1]])\n",
    "T, D = A.diagonalize()\n",
    "\n",
    "pprint(T)"
   ]
  },
  {
   "cell_type": "markdown",
   "id": "5081df2c-31b9-4bd1-b30e-2ace1d13e7f7",
   "metadata": {},
   "source": [
    "Проверка:"
   ]
  },
  {
   "cell_type": "code",
   "execution_count": 3,
   "id": "d6cd0239-d3e0-4d1f-908a-c5eb58ace75a",
   "metadata": {},
   "outputs": [
    {
     "name": "stdout",
     "output_type": "stream",
     "text": [
      "[[1 -3 1]\n",
      " [3 -3 -1]\n",
      " [3 -5 1]]\n"
     ]
    }
   ],
   "source": [
    "print(np.dot(T, np.dot(D, T.inv())))"
   ]
  },
  {
   "cell_type": "code",
   "execution_count": 4,
   "id": "7bd79125-104e-449f-8c75-93575f46c3ca",
   "metadata": {},
   "outputs": [
    {
     "name": "stdout",
     "output_type": "stream",
     "text": [
      "9.0*x**2 + 6.0*y**2 + 3.0*z**2\n"
     ]
    }
   ],
   "source": [
    "#2\n",
    "A = Matrix([[6, -4/2, 4/2],\n",
    "            [-4/2, 5, 0/2],\n",
    "            [4/2, 0/2, 7]])\n",
    "\n",
    "T, D = A.diagonalize()\n",
    "x, y, z = symbols('x y z')\n",
    "f = D[2, 2] * x ** 2 + D[1, 1] * y ** 2 + D[0, 0] * z ** 2\n",
    "print(f)"
   ]
  },
  {
   "cell_type": "code",
   "execution_count": 16,
   "id": "e787791b-30db-4544-9a7d-fd8f7f6e50dd",
   "metadata": {},
   "outputs": [
    {
     "name": "stdout",
     "output_type": "stream",
     "text": [
      "x = sqrt(5)*(2*x1 - y1)/5\n",
      "y = sqrt(5)*(x1 + 2*y1)/5\n",
      "x1**2 + 14*sqrt(5)*x1/5 + 6*y1**2 - 12*sqrt(5)*y1/5 + 9\n"
     ]
    }
   ],
   "source": [
    "#3\n",
    "A = Matrix([[2, -2],\n",
    "            [-2, 5]])\n",
    "T, D = A.diagonalize()\n",
    "\n",
    "arr = []\n",
    "arr.append(T[0] / sqrt(T[0] ** 2 + T[1] ** 2))\n",
    "arr.append(T[1] / sqrt(T[0] ** 2 + T[1] ** 2))\n",
    "arr.append(T[2] / sqrt(T[2] ** 2 + T[3] ** 2))\n",
    "arr.append(T[3] / sqrt(T[2] ** 2 + T[3] ** 2))\n",
    "T[0], T[1], T[2], T[3] = arr[0], arr[1], arr[2], arr[3]\n",
    "\n",
    "x1, y1 = symbols('x1 y1')\n",
    "X1 = Matrix([[x1, y1]])\n",
    "X = T * X1.T\n",
    "print('x =', simplify(X[0, 0]))\n",
    "print('y =', simplify(X[1, 0]))\n",
    "\n",
    "F = 2 * X[0] ** 2 - 4 * X[0] * X[1] + 5 * X[1] ** 2 + 8 * X[0] - 2 * X[1] + 9\n",
    "\n",
    "F = simplify(F)\n",
    "print(F)"
   ]
  },
  {
   "cell_type": "code",
   "execution_count": 6,
   "id": "011977ab-1fc2-4347-b418-a530a5ba2b25",
   "metadata": {},
   "outputs": [
    {
     "name": "stdout",
     "output_type": "stream",
     "text": [
      "4.9*(0.31943828249997*x1 + 1)**2 + 0.6*(0.912870929175277*y1 - 1)**2 - 1.0\n"
     ]
    }
   ],
   "source": [
    "x1, y1 = symbols('x1 y1')\n",
    "curr = (14 * np.sqrt(5) / 5) / (2 * np.sqrt(1))\n",
    "curr2 = (-12 * np.sqrt(5) / 5) / (2 * np.sqrt(6))\n",
    "\n",
    "eqq = (x1 + curr) ** 2 + (y1 + curr2) ** 2 + 9 - curr ** 2 - curr2 ** 2\n",
    "print(eqq/2)"
   ]
  },
  {
   "cell_type": "code",
   "execution_count": 15,
   "id": "cfa83f08-0174-41c5-90a6-141b6206bb8e",
   "metadata": {},
   "outputs": [
    {
     "data": {
      "image/png": "[encoded data removed]",
      "text/plain": [
       "<Figure size 640x480 with 1 Axes>"
      ]
     },
     "metadata": {},
     "output_type": "display_data"
    }
   ],
   "source": [
    "var('x y')\n",
    "plot_implicit(Eq(4.9 * (0.31943828249997 * x1 + 1) ** 2 + 0.6 * (0.912870929175277 * y1 - 1) ** 2, 1), xlabel='x1', ylabel='y1')\n",
    "plt.show()"
   ]
  },
  {
   "cell_type": "markdown",
   "id": "ff0e6411-7734-4f04-82ff-5fa2d05a170b",
   "metadata": {},
   "source": [
    "*Эллипс.*"
   ]
  },
  {
   "cell_type": "code",
   "execution_count": 8,
   "id": "7ba53eb6-3bb2-4f82-83ee-0108e01b614d",
   "metadata": {},
   "outputs": [
    {
     "name": "stdout",
     "output_type": "stream",
     "text": [
      "x= sqrt(5)*(-2*x1 + y1)/5\n",
      "y= sqrt(5)*(x1 + 2*y1)/5\n",
      "2*sqrt(5)*x1 + 5*y1**2 - 2*sqrt(5)*y1 + 1\n"
     ]
    }
   ],
   "source": [
    "#4\n",
    "A = Matrix([[1, 2],\n",
    "            [2, 4]])\n",
    "T, D = A.diagonalize()\n",
    "\n",
    "arr = []\n",
    "for i in range(len(T)):\n",
    "    if i % 2 == 0:\n",
    "        arr.append(T[i] / sqrt(T[i] ** 2 + T[i + 1] ** 2))\n",
    "    else:\n",
    "        arr.append(T[i] / sqrt(T[i - 1] ** 2 + T[i] ** 2))\n",
    "\n",
    "for i in range(len(T)):\n",
    "    T[i] = arr[i]\n",
    "\n",
    "x1, y1 = symbols('x1 y1')\n",
    "X1 = Matrix([[x1, y1]])\n",
    "X = T * X1.T\n",
    "print('x=', simplify(X[0, 0]))\n",
    "print('y=', simplify(X[1, 0]))\n",
    "\n",
    "F = X[0] ** 2 + 4 * X[0] * X[1] + 4 * X[1] ** 2 - 6 * X[0] - 2 * X[1] + 1\n",
    "\n",
    "F = simplify(F)\n",
    "print(F)"
   ]
  },
  {
   "cell_type": "code",
   "execution_count": 9,
   "id": "b838686b-07cf-4a46-b05a-62c79be0fde3",
   "metadata": {},
   "outputs": [
    {
     "name": "stdout",
     "output_type": "stream",
     "text": [
      "sqrt(5)*x1/4 + 0.15*(0.912870929175277*y1 - 1)**2 + 1.0\n"
     ]
    }
   ],
   "source": [
    "x1, y1 = symbols('x1 y1')\n",
    "curr = (- 2*sqrt(5)) / (2 * np.sqrt(5))\n",
    "\n",
    "eqq = 2*sqrt(5)*x1 + (y1 + curr2) ** 2 + 9 - curr ** 2\n",
    "print(eqq/8)"
   ]
  },
  {
   "cell_type": "code",
   "execution_count": 17,
   "id": "6de65500-9e55-4f85-b189-1b368c078ec7",
   "metadata": {},
   "outputs": [
    {
     "data": {
      "image/png": "[encoded data removed]",
      "text/plain": [
       "<Figure size 640x480 with 1 Axes>"
      ]
     },
     "metadata": {},
     "output_type": "display_data"
    },
    {
     "data": {
      "image/png": "[encoded data removed]",
      "text/plain": [
       "<Figure size 640x480 with 1 Axes>"
      ]
     },
     "metadata": {},
     "output_type": "display_data"
    }
   ],
   "source": [
    "var('x y')\n",
    "plot_implicit(Eq(x ** 2 + 4 * x * y + 4 * y ** 2 - 6 * x - 2 * y, +1), title='Старая СО', xlabel='x', ylabel='y')\n",
    "plot_implicit(Eq(sqrt(5)*x1/4 + 0.15*(0.912870929175277*y1 - 1)**2 + 1.0, -1), title='Новая СО', xlabel='x1', ylabel='y1')\n",
    "plt.show()"
   ]
  },
  {
   "cell_type": "markdown",
   "id": "85272765-fbe8-4221-aa31-fe413514c7f1",
   "metadata": {},
   "source": [
    "*Парабола.*"
   ]
  },
  {
   "cell_type": "code",
   "execution_count": 11,
   "id": "3e378110-cdab-4f27-b5d8-1ec3f4991dc5",
   "metadata": {},
   "outputs": [
    {
     "name": "stdout",
     "output_type": "stream",
     "text": [
      "x  sqrt(6)*(-x1 + y1 - 2*z1)/6\n",
      "y  sqrt(5)*(2*x1 - z1)/5\n",
      "z  sqrt(5)*(y1 + 2*z1)/5\n",
      "-2*(2*x1 - z1)**2/5 - 4*(2*x1 - z1)*(y1 + 2*z1)/5 - 2*sqrt(30)*(2*x1 - z1)*(x1 - y1 + 2*z1)/15 + (y1 + 2*z1)**2/5 + 4*sqrt(30)*(y1 + 2*z1)*(x1 - y1 + 2*z1)/15 + (x1 - y1 + 2*z1)**2/6 + 6\n"
     ]
    }
   ],
   "source": [
    "#5\n",
    "A = Matrix([[1, 2, -4],\n",
    "            [2, -2, -2],\n",
    "            [-4, -2, 1]])\n",
    "T, D = A.diagonalize()\n",
    "\n",
    "arr = []\n",
    "for i in range(len(T)):\n",
    "    if i % 3 == 0:\n",
    "        arr.append(T[i] / sqrt(T[i] ** 2 + T[i + 1] ** 2 + T[i + 2] ** 2))\n",
    "    else:\n",
    "        if i % 3 == 1:\n",
    "            arr.append(T[i] / sqrt(T[i - 1] ** 2 + T[i] ** 2 + T[i + 1] ** 2))\n",
    "        else:\n",
    "            arr.append(T[i] / sqrt(T[i - 2] ** 2 + T[i - 1] ** 2 + T[i] ** 2))\n",
    "for i in range(len(T)):\n",
    "    T[i] = arr[i]\n",
    "\n",
    "x1, y1, z1 = symbols('x1 y1 z1')\n",
    "X1 = Matrix([[x1, y1, z1]])\n",
    "X = T * X1.T\n",
    "print('x ', simplify(X[0, 0]))\n",
    "print('y ', simplify(X[1, 0]))\n",
    "print('z ', simplify(X[2, 0]))\n",
    "\n",
    "F = X[0] ** 2 - 2 * X[1] ** 2 + X[2] ** 2 + 4 * X[0] * X[1] - 8 * X[0] * X[2] - 4 * X[1] * X[2] + 6\n",
    "\n",
    "F = simplify(F)\n",
    "print(F)"
   ]
  },
  {
   "cell_type": "code",
   "execution_count": null,
   "id": "ff2f1128-e0af-4f39-ae2e-af74c4de3c63",
   "metadata": {},
   "outputs": [],
   "source": []
  }
 ],
 "metadata": {
  "kernelspec": {
   "display_name": "Python 3 (ipykernel)",
   "language": "python",
   "name": "python3"
  },
  "language_info": {
   "codemirror_mode": {
    "name": "ipython",
    "version": 3
   },
   "file_extension": ".py",
   "mimetype": "text/x-python",
   "name": "python",
   "nbconvert_exporter": "python",
   "pygments_lexer": "ipython3",
   "version": "3.10.10"
  }
 },
 "nbformat": 4,
 "nbformat_minor": 5
}
