{
 "cells": [
  {
   "cell_type": "code",
   "execution_count": 1,
   "metadata": {},
   "outputs": [],
   "source": [
    "import numpy as np\n",
    "from sympy import *\n"
   ]
  },
  {
   "cell_type": "code",
   "execution_count": 54,
   "metadata": {},
   "outputs": [
    {
     "name": "stdout",
     "output_type": "stream",
     "text": [
      "Проверка совместности: [2, 2, 3]\n",
      "Метод не подходит: бесконечное кол-во решений\n"
     ]
    }
   ],
   "source": [
    "#1.1\n",
    "A = np.array([[1, 2, 3], [1, -3, 2], [2, 4, 6]])\n",
    "B = np.array([7, 5, 14])\n",
    "D = np.column_stack((A,B))\n",
    "n=3\n",
    "rkA=np.linalg.matrix_rank(A)\n",
    "rkD=np.linalg.matrix_rank(D)\n",
    "print('Проверка совместности:',[rkA,rkD,n])\n",
    "print('Метод не подходит: бесконечное кол-во решений')\n",
    "\n",
    "\n"
   ]
  },
  {
   "cell_type": "code",
   "execution_count": 33,
   "metadata": {},
   "outputs": [
    {
     "name": "stdout",
     "output_type": "stream",
     "text": [
      "Проверка совместности: [3, 4, 4]\n",
      "Система несовместна\n"
     ]
    }
   ],
   "source": [
    "#1.2\n",
    "A = np.array([[3, -2, 1,1], [5, -3, 1,1], [9, -6, 3,3],[2,-1,6,-3]])\n",
    "B = np.array([-8, -11, 0, 9])\n",
    "\n",
    "D = np.column_stack((A,B))\n",
    "n=4\n",
    "rkA=np.linalg.matrix_rank(A)\n",
    "rkD=np.linalg.matrix_rank(D)\n",
    "print('Проверка совместности:',[rkA,rkD,n])\n",
    "#X1=np.linalg.inv(A).dot(B)\n",
    "print('Система несовместна')"
   ]
  },
  {
   "cell_type": "code",
   "execution_count": 34,
   "metadata": {},
   "outputs": [
    {
     "name": "stdout",
     "output_type": "stream",
     "text": [
      "Проверка совместности: [4, 4, 4]\n",
      "Ответ: [-3.00000000e+00 -2.22044605e-16  2.00000000e+00 -1.00000000e+00]\n"
     ]
    }
   ],
   "source": [
    "#1.3\n",
    "A = np.array([[3, -2, 1,1], [5, 1, 2,0], [-1, 1, -1,1],[2,-1,6,-3]])\n",
    "B = np.array([-8, -11, 0, 9])\n",
    "D = np.column_stack((A,B))\n",
    "n=4\n",
    "rkA=np.linalg.matrix_rank(A)\n",
    "rkD=np.linalg.matrix_rank(D)\n",
    "print('Проверка совместности:',[rkA,rkD,n])\n",
    "X1=np.linalg.inv(A).dot(B)\n",
    "print('Ответ:',X1)"
   ]
  },
  {
   "cell_type": "code",
   "execution_count": 35,
   "metadata": {},
   "outputs": [
    {
     "name": "stdout",
     "output_type": "stream",
     "text": [
      "Проверка совместности: [2, 2, 4]\n",
      "Решать Гауссом\n"
     ]
    }
   ],
   "source": [
    "#1.4\n",
    "A = np.array([[2, 1, -1,-3], [4, 0, 1,-7], [0, 2, -3,1],[2,3,-4,-2]])\n",
    "B = np.array([2, 3, 1, 3])\n",
    "D = np.column_stack((A,B))\n",
    "n=4\n",
    "rkA=np.linalg.matrix_rank(A)\n",
    "rkD=np.linalg.matrix_rank(D)\n",
    "print('Проверка совместности:',[rkA,rkD,n])\n",
    "print('Решать Гауссом')"
   ]
  },
  {
   "cell_type": "code",
   "execution_count": 36,
   "metadata": {},
   "outputs": [
    {
     "name": "stdout",
     "output_type": "stream",
     "text": [
      "(Matrix([\n",
      "[1, 0,  1/4, -7/4],\n",
      "[0, 1, -3/2,  1/2],\n",
      "[0, 0,    0,    0],\n",
      "[0, 0,    0,    0]]), (0, 1))\n",
      "{(-C1/4 + 7*C2/4 + 3/4, 3*C1/2 - C2/2 + 1/2, C1, C2)}\n"
     ]
    },
    {
     "data": {
      "text/plain": [
       "True"
      ]
     },
     "execution_count": 36,
     "metadata": {},
     "output_type": "execute_result"
    }
   ],
   "source": [
    "A = Matrix([[2,1,-1,-3], [4,0,1,-7], [0,2,-3,1],[2,3,-4,-2]])\n",
    "RA = A.rref()\n",
    "print(RA)\n",
    "\n",
    "x1, x2, x3, x4 = symbols('x1 x2 C1 C2')\n",
    "C1,C2=symbols('C1 C2')\n",
    "B = Matrix([2,3,1,3])\n",
    "X=linsolve((A,B),x1,x2,x3,x4)\n",
    "print(X)\n",
    "\n",
    "X=Matrix([[-C1/4+7*C2/4+3/4],[3*C1/2-C2/2+1/2],[C1],[C2]])\n",
    "A*X==B\n"
   ]
  },
  {
   "cell_type": "code",
   "execution_count": 37,
   "metadata": {},
   "outputs": [
    {
     "name": "stdout",
     "output_type": "stream",
     "text": [
      "(Matrix([\n",
      "[1, 0, 0, 0],\n",
      "[0, 1, 0, 0],\n",
      "[0, 0, 1, 0],\n",
      "[0, 0, 0, 1]]), (0, 1, 2, 3))\n",
      "{(-3, 0, 2, -1)}\n"
     ]
    },
    {
     "data": {
      "text/plain": [
       "True"
      ]
     },
     "execution_count": 37,
     "metadata": {},
     "output_type": "execute_result"
    }
   ],
   "source": [
    "#2.1\n",
    "A = Matrix([[3,-2,1,1], [5,1,2,0], [-1,1,-1,1],[2,-1,6,-3]])\n",
    "RA = A.rref()\n",
    "print(RA)\n",
    "x1, x2, x3, x4 = symbols('x1 x2 C1 C2')\n",
    "C1,C2=symbols('C1 C2')\n",
    "B = Matrix([-8,-11,0,9])\n",
    "X=linsolve((A,B),x1,x2,x3,x4)\n",
    "print(X)\n",
    "\n",
    "X=Matrix([[-3],[0],[2],[-1]])\n",
    "A*X==B"
   ]
  },
  {
   "cell_type": "code",
   "execution_count": 38,
   "metadata": {},
   "outputs": [
    {
     "name": "stdout",
     "output_type": "stream",
     "text": [
      "(Matrix([\n",
      "[1, 0,  1/4,  7/8],\n",
      "[0, 1, -1/2, -1/4],\n",
      "[0, 0,    0,    0],\n",
      "[0, 0,    0,    0],\n",
      "[0, 0,    0,    0]]), (0, 1))\n",
      "{(-C1/4 - 7*C2/8 - 3/8, C1/2 + C2/4 + 1/4, C1, C2)}\n"
     ]
    },
    {
     "data": {
      "text/plain": [
       "True"
      ]
     },
     "execution_count": 38,
     "metadata": {},
     "output_type": "execute_result"
    }
   ],
   "source": [
    "#2.2\n",
    "A = Matrix([[2,3,-1,1], [2,7,-3,0], [0,4,-2,-1],[2,-1,1,2],[4,10,-4,1]])\n",
    "RA = A.rref()\n",
    "print(RA)\n",
    "x1, x2, x3, x4 = symbols('x1 x2 C1 C2')\n",
    "C1,C2=symbols('C1 C2')\n",
    "B = Matrix([0,1,1,-1,1])\n",
    "X=linsolve((A,B),x1,x2,x3,x4)\n",
    "print(X)\n",
    "\n",
    "X=Matrix([[-C1/4 - 7*C2/8 - 3/8],[C1/2 + C2/4 + 1/4],[C1],[C2]])\n",
    "A*X==B"
   ]
  },
  {
   "cell_type": "code",
   "execution_count": 39,
   "metadata": {},
   "outputs": [
    {
     "name": "stdout",
     "output_type": "stream",
     "text": [
      "(Matrix([\n",
      "[1, 0, 0],\n",
      "[0, 1, 0],\n",
      "[0, 0, 1],\n",
      "[0, 0, 0],\n",
      "[0, 0, 0]]), (0, 1, 2))\n",
      "{(1, 2, 1)}\n"
     ]
    },
    {
     "data": {
      "text/plain": [
       "True"
      ]
     },
     "execution_count": 39,
     "metadata": {},
     "output_type": "execute_result"
    }
   ],
   "source": [
    "#2.3\n",
    "\n",
    "A = Matrix([[2,-1,3], [3,1,-5], [4,-1,1],[1,3,-13],[1,2,-8]])\n",
    "RA = A.rref()\n",
    "print(RA)\n",
    "x1, x2, x3, x4 = symbols('x1 x2 C1 C2')\n",
    "C1,C2=symbols('C1 C2')\n",
    "B = Matrix([3,0,3,-6,-3])\n",
    "X=linsolve((A,B),x1,x2,x3)\n",
    "print(X)\n",
    "\n",
    "X=Matrix([[1],[2],[1]])\n",
    "A*X==B"
   ]
  },
  {
   "cell_type": "code",
   "execution_count": 40,
   "metadata": {},
   "outputs": [
    {
     "name": "stdout",
     "output_type": "stream",
     "text": [
      "(Matrix([\n",
      "[1, 0, 4/5],\n",
      "[0, 1, 1/5],\n",
      "[0, 0,   0]]), (0, 1))\n",
      "{(8/5 - 4*C1/5, 2/5 - C1/5, C1)}\n"
     ]
    },
    {
     "data": {
      "text/plain": [
       "True"
      ]
     },
     "execution_count": 40,
     "metadata": {},
     "output_type": "execute_result"
    }
   ],
   "source": [
    "#2.4\n",
    "A = Matrix([[2,-3,1], [1,1,1], [-4,6,-2]])\n",
    "RA = A.rref()\n",
    "print(RA)\n",
    "x1, x2, x3, x4 = symbols('x1 x2 C1 C2')\n",
    "C1,C2=symbols('C1 C2')\n",
    "B = Matrix([2,2,-4])\n",
    "X=linsolve((A,B),x1,x2,x3)\n",
    "print(X)\n",
    "\n",
    "X=Matrix([[8/5 - 4*C1/5],[ 2/5 - C1/5],[C1]])\n",
    "A*X==B"
   ]
  },
  {
   "cell_type": "code",
   "execution_count": 41,
   "metadata": {},
   "outputs": [
    {
     "name": "stdout",
     "output_type": "stream",
     "text": [
      "(Matrix([\n",
      "[1, 0,  1/4, -7/4],\n",
      "[0, 1, -3/2,  1/2],\n",
      "[0, 0,    0,    0],\n",
      "[0, 0,    0,    0]]), (0, 1))\n",
      "{(-C1/4 + 7*C2/4 + 3/4, 3*C1/2 - C2/2 + 1/2, C1, C2)}\n"
     ]
    },
    {
     "data": {
      "text/plain": [
       "True"
      ]
     },
     "execution_count": 41,
     "metadata": {},
     "output_type": "execute_result"
    }
   ],
   "source": [
    "#2.5\n",
    "\n",
    "A = Matrix([[2,1,-1,-3], [4,0,1,-7], [0,2,-3,1],[2,3,-4,-2]])\n",
    "RA = A.rref()\n",
    "print(RA)\n",
    "x1, x2, x3, x4 = symbols('x1 x2 C1 C2')\n",
    "C1,C2=symbols('C1 C2')\n",
    "B = Matrix([2,3,1,3])\n",
    "X=linsolve((A,B),x1,x2,x3,x4)\n",
    "print(X)\n",
    "\n",
    "X=Matrix([[-C1/4 + 7*C2/4 + 3/4],[3*C1/2 - C2/2 + 1/2],[C1],[C2]])\n",
    "A*X==B"
   ]
  },
  {
   "cell_type": "code",
   "execution_count": 48,
   "metadata": {},
   "outputs": [
    {
     "name": "stdout",
     "output_type": "stream",
     "text": [
      "Ранг системы= 2\n",
      "Фундаментальная система решений: [Matrix([\n",
      "[-4/5],\n",
      "[-1/5],\n",
      "[   1]])]\n",
      "Общее решение системы:\n"
     ]
    },
    {
     "data": {
      "text/latex": [
       "$\\displaystyle \\left[\\begin{matrix}- \\frac{4 C_{1}}{5}\\\\- \\frac{C_{1}}{5}\\\\C_{1}\\end{matrix}\\right]$"
      ],
      "text/plain": [
       "Matrix([\n",
       "[-4*C1/5],\n",
       "[  -C1/5],\n",
       "[     C1]])"
      ]
     },
     "execution_count": 48,
     "metadata": {},
     "output_type": "execute_result"
    }
   ],
   "source": [
    "#3.1\n",
    "AA1 = Matrix([[2,-3,1],[1,1,1],[3,-2,2]])\n",
    "print('Ранг системы=',AA1.rank())\n",
    "\n",
    "E1=AA1.nullspace()\n",
    "print('Фундаментальная система решений:',E1)\n",
    "C1, C2 = symbols('C1 C2')\n",
    "print('Общее решение системы:')\n",
    "C1*E1[0]\n"
   ]
  },
  {
   "cell_type": "code",
   "execution_count": 52,
   "metadata": {},
   "outputs": [
    {
     "name": "stdout",
     "output_type": "stream",
     "text": [
      "Ранг системы= 4\n",
      "Ранг равен числу неизвестных -> нет свободных членов. Система имеет тривиальное решение\n"
     ]
    }
   ],
   "source": [
    "#3.2\n",
    "AA2 = Matrix([[1,2,4,-3], [3,5,6,-1], [4,4,-2,3],[3,8,24,-19]])\n",
    "\n",
    "print('Ранг системы=',AA2.rank())\n",
    "\n",
    "print('Ранг равен числу неизвестных -> нет свободных членов. Система имеет тривиальное решение')"
   ]
  },
  {
   "cell_type": "code",
   "execution_count": 53,
   "metadata": {},
   "outputs": [
    {
     "name": "stdout",
     "output_type": "stream",
     "text": [
      "Ранг системы= 3\n",
      "Фундаментальная система решений: [Matrix([\n",
      "[ 1],\n",
      "[ 1],\n",
      "[-1],\n",
      "[ 1],\n",
      "[ 0],\n",
      "[ 0]]), Matrix([\n",
      "[-1],\n",
      "[ 0],\n",
      "[ 0],\n",
      "[ 0],\n",
      "[ 1],\n",
      "[ 0]]), Matrix([\n",
      "[ 0],\n",
      "[-1],\n",
      "[ 0],\n",
      "[ 0],\n",
      "[ 0],\n",
      "[ 1]])]\n",
      "Общее решение системы:\n"
     ]
    },
    {
     "data": {
      "text/latex": [
       "$\\displaystyle \\left[\\begin{matrix}C_{1} - C_{2}\\\\C_{1}\\\\- C_{1}\\\\C_{1}\\\\C_{2}\\\\0\\end{matrix}\\right]$"
      ],
      "text/plain": [
       "Matrix([\n",
       "[C1 - C2],\n",
       "[     C1],\n",
       "[    -C1],\n",
       "[     C1],\n",
       "[     C2],\n",
       "[      0]])"
      ]
     },
     "execution_count": 53,
     "metadata": {},
     "output_type": "execute_result"
    }
   ],
   "source": [
    "#3.3\n",
    "AA3 = Matrix([[1,0,1,0,1,0], [0,1,0,-1,0,1], [1,-1,0,0,1,-1],[0,1,1,0,0,1],[1,0,0,-1,1,0]])\n",
    "\n",
    "print('Ранг системы=',AA.rank())\n",
    "\n",
    "E3=AA3.nullspace()\n",
    "print('Фундаментальная система решений:',E3)\n",
    "C1, C2 = symbols('C1 C2')\n",
    "print('Общее решение системы:')\n",
    "C1*E3[0]+C2*E3[1]"
   ]
  },
  {
   "cell_type": "code",
   "execution_count": null,
   "metadata": {},
   "outputs": [],
   "source": []
  }
 ],
 "metadata": {
  "kernelspec": {
   "display_name": "Python 3 (ipykernel)",
   "language": "python",
   "name": "python3"
  },
  "language_info": {
   "codemirror_mode": {
    "name": "ipython",
    "version": 3
   },
   "file_extension": ".py",
   "mimetype": "text/x-python",
   "name": "python",
   "nbconvert_exporter": "python",
   "pygments_lexer": "ipython3",
   "version": "3.10.10"
  }
 },
 "nbformat": 4,
 "nbformat_minor": 4
}
