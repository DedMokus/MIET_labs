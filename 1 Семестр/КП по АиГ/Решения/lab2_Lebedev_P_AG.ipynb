{
 "cells": [
  {
   "cell_type": "markdown",
   "id": "e22245cd-a187-46ba-8eee-aca76f6a40fb",
   "metadata": {},
   "source": [
    "Упражнение 2.1"
   ]
  },
  {
   "cell_type": "code",
   "execution_count": 86,
   "id": "0d60f2d1-04ce-4f2d-b67d-315dadd2c273",
   "metadata": {},
   "outputs": [],
   "source": [
    "import numpy as np\n",
    "from sympy import *"
   ]
  },
  {
   "cell_type": "code",
   "execution_count": 10,
   "id": "81db18ba-c752-4146-a856-5f0958d46836",
   "metadata": {},
   "outputs": [
    {
     "name": "stdout",
     "output_type": "stream",
     "text": [
      "18\n"
     ]
    }
   ],
   "source": [
    "v = Matrix([[-1,4],[-5,2]])\n",
    "print(det(v))"
   ]
  },
  {
   "cell_type": "code",
   "execution_count": 12,
   "id": "37b5eea3-6a4d-40fb-b6be-6ec770323bbb",
   "metadata": {},
   "outputs": [
    {
     "name": "stdout",
     "output_type": "stream",
     "text": [
      "0\n"
     ]
    }
   ],
   "source": [
    "a,b = symbols('a b')\n",
    "v1 = Matrix([[a+b,a-b],[a+b,a-b]])\n",
    "print(det(v1))"
   ]
  },
  {
   "cell_type": "code",
   "execution_count": 14,
   "id": "d0d17cda-8eeb-472e-a61c-b11f3be2d635",
   "metadata": {},
   "outputs": [
    {
     "name": "stdout",
     "output_type": "stream",
     "text": [
      "x**2 + 5*x + 4\n"
     ]
    }
   ],
   "source": [
    "x = symbols('x')\n",
    "v2 = Matrix([[x,x+1],[-4,x+1]])\n",
    "print(det(v2))"
   ]
  },
  {
   "cell_type": "markdown",
   "id": "6b4d36a9-6672-498c-95d0-583eb163dfb7",
   "metadata": {},
   "source": [
    "Упражнение 2.2"
   ]
  },
  {
   "cell_type": "code",
   "execution_count": 15,
   "id": "ab415411-763b-4f13-a63e-8afb062c10d3",
   "metadata": {},
   "outputs": [
    {
     "name": "stdout",
     "output_type": "stream",
     "text": [
      "24\n"
     ]
    }
   ],
   "source": [
    "t = Matrix([[1,2,3],[4,5,6],[7,8,1]])\n",
    "print(det(t))"
   ]
  },
  {
   "cell_type": "code",
   "execution_count": 16,
   "id": "85e6317f-beda-4686-bcbb-3b69ef8cee83",
   "metadata": {},
   "outputs": [
    {
     "name": "stdout",
     "output_type": "stream",
     "text": [
      "0\n"
     ]
    }
   ],
   "source": [
    "t1 = Matrix([[3,4,-5],[8,7,-2],[2,-1,8]])\n",
    "print(det(t1))"
   ]
  },
  {
   "cell_type": "code",
   "execution_count": 17,
   "id": "f50dab2f-d3ba-43c9-bddf-89a9bf1f2d93",
   "metadata": {},
   "outputs": [
    {
     "name": "stdout",
     "output_type": "stream",
     "text": [
      "a*b*c + a*b*x + a*c*x + b*c*x\n"
     ]
    }
   ],
   "source": [
    "a,b,c,x = symbols('a b c x')\n",
    "t2 = Matrix([[a+x,x,x],[x,b+x,x],[x,x,c+x]])\n",
    "print(det(t2))"
   ]
  },
  {
   "cell_type": "code",
   "execution_count": 18,
   "id": "b05331ae-4bc3-4ebd-bf48-67cfad4a0a3c",
   "metadata": {},
   "outputs": [
    {
     "name": "stdout",
     "output_type": "stream",
     "text": [
      "sin(a)*cos(b) - sin(a)*cos(c) - sin(b)*cos(a) + sin(b)*cos(c) + sin(c)*cos(a) - sin(c)*cos(b)\n"
     ]
    }
   ],
   "source": [
    "a,b,c = symbols('a b c')\n",
    "t3 = Matrix([[sin(a),cos(a),1],[sin(b),cos(b),1],[sin(c),cos(c),1]])\n",
    "print(det(t3))"
   ]
  },
  {
   "cell_type": "markdown",
   "id": "d7f98eaa-b682-4a69-9d4e-71d1c0843548",
   "metadata": {},
   "source": [
    "Упражнение 2.3"
   ]
  },
  {
   "cell_type": "code",
   "execution_count": 25,
   "id": "3a65c427-e61b-4a58-a7ff-efd2c955b86c",
   "metadata": {},
   "outputs": [
    {
     "name": "stdout",
     "output_type": "stream",
     "text": [
      "Верно\n",
      "16\n",
      "7\n"
     ]
    }
   ],
   "source": [
    "A = np.matrix('3 -5; 2 7')\n",
    "#print(A)\n",
    "B = np.matrix('13; 81')\n",
    "#print(B)\n",
    "A_det = np.linalg.det(A)\n",
    "#print(A_det)\n",
    "if A_det == 0:\n",
    "    print('det = 0!')\n",
    "else:\n",
    "    X_m = np.matrix(A)\n",
    "    X_m[:, 0] = B\n",
    "    #print(X_m)\n",
    "    Y_m = np.matrix(A)\n",
    "    Y_m[:, 1] = B\n",
    "    #print(Y_m)\n",
    "#Z_m = np.matrix(A)\n",
    "#Z_m[:, 2] = B\n",
    "#print(Z_m)\n",
    "    x = round(np.linalg.det(X_m) / A_det)\n",
    "    y = round(np.linalg.det(Y_m) / A_det)\n",
    "    X = Matrix([[x],[y]])\n",
    "    if (np.dot(A,X) - B == 0).all:\n",
    "        print('Верно')\n",
    "    else:\n",
    "        print('Неверно')\n",
    "#z = np.linalg.det(Z_m) / A_det\n",
    "    print(x)\n",
    "    print(y)\n",
    "#print(z)\n",
    "#print(np.dot(A,x)-B == 0)"
   ]
  },
  {
   "cell_type": "code",
   "execution_count": 87,
   "id": "22bcc8b6-63f8-40b6-84fc-5405e5d30603",
   "metadata": {},
   "outputs": [
    {
     "name": "stdout",
     "output_type": "stream",
     "text": [
      "det = 0!\n"
     ]
    }
   ],
   "source": [
    "A = np.matrix('3 -4; -6 8')\n",
    "#print(A)\n",
    "B = np.matrix('-6; 12')\n",
    "#print(B)\n",
    "A_det = np.linalg.det(A)\n",
    "#print(A_det)\n",
    "if A_det == 0:\n",
    "    print('det = 0!')\n",
    "else:\n",
    "    X_m = np.matrix(A)\n",
    "    X_m[:, 0] = B\n",
    "    #print(X_m)\n",
    "    Y_m = np.matrix(A)\n",
    "    Y_m[:, 1] = B\n",
    "    print(Y_m)\n",
    "    #Z_m = np.matrix(A)\n",
    "    #Z_m[:, 2] = B\n",
    "    #print(Z_m)\n",
    "    x = round(np.linalg.det(X_m) / A_det)\n",
    "    y = round(np.linalg.det(Y_m) / A_det)\n",
    "    X = Matrix([[x],[y]])\n",
    "    if (np.dot(A,X) - B == 0).all:\n",
    "        print('Верно')\n",
    "    else:\n",
    "        print('Неверно')\n",
    "#z = np.linalg.det(Z_m) / A_det\n",
    "    print(x)\n",
    "    print(y)\n",
    "#print(z)"
   ]
  },
  {
   "cell_type": "code",
   "execution_count": 21,
   "id": "433a8553-e097-4578-bd2b-b69e75233218",
   "metadata": {},
   "outputs": [
    {
     "name": "stdout",
     "output_type": "stream",
     "text": [
      "Верно\n",
      "2\n",
      "-1\n",
      "1\n"
     ]
    }
   ],
   "source": [
    "A = np.matrix('7 2 3; 5 -3 2;10 -11 5')\n",
    "#print(A)\n",
    "B = np.matrix('15; 15; 36')\n",
    "#print(B)\n",
    "A_det = np.linalg.det(A)\n",
    "#print(A_det)\n",
    "if A_det == 0:\n",
    "    print('Det = 0!')\n",
    "else:\n",
    "    X_m = np.matrix(A)\n",
    "    X_m[:, 0] = B\n",
    "    #print(X_m)\n",
    "    Y_m = np.matrix(A)\n",
    "    Y_m[:, 1] = B\n",
    "    #print(Y_m)\n",
    "    Z_m = np.matrix(A)\n",
    "    Z_m[:, 2] = B\n",
    "    #print(Z_m)\n",
    "    x = np.linalg.det(X_m) / A_det\n",
    "    y = np.linalg.det(Y_m) / A_det\n",
    "    z = np.linalg.det(Z_m) / A_det\n",
    "    X = Matrix([[x],[y],[z]])\n",
    "    if (np.dot(A,X) - B == 0).all:\n",
    "        print('Верно')\n",
    "    else:\n",
    "        print('Неверно')\n",
    "    print(round(x))\n",
    "    print(round(y))\n",
    "    print(round(z))"
   ]
  },
  {
   "cell_type": "code",
   "execution_count": 88,
   "id": "996e2e2e-32ae-4559-887e-04ff35143333",
   "metadata": {},
   "outputs": [
    {
     "name": "stdout",
     "output_type": "stream",
     "text": [
      "[[ 5]\n",
      " [16]\n",
      " [10]]\n",
      "Matrix([[1], [3], [5]])\n",
      "[[5]\n",
      " [16]\n",
      " [10]]\n",
      "Верно\n",
      "1\n",
      "3\n",
      "5\n"
     ]
    }
   ],
   "source": [
    "A = np.matrix('2 1 0; 1 0 3;0 5 -1')\n",
    "#print(A)\n",
    "B = np.matrix('5; 16; 10')\n",
    "#print(B)\n",
    "A_det = np.linalg.det(A)\n",
    "#print(A_det)\n",
    "if A_det == 0:\n",
    "    print('Определитель равен 0')\n",
    "else:\n",
    "    X_m = np.matrix(A)\n",
    "    X_m[:, 0] = B\n",
    "    #print(X_m)\n",
    "    Y_m = np.matrix(A)\n",
    "    Y_m[:, 1] = B\n",
    "    #print(Y_m)\n",
    "    Z_m = np.matrix(A)\n",
    "    Z_m[:, 2] = B\n",
    "    #print(Z_m)\n",
    "    x = round(np.linalg.det(X_m) / A_det)\n",
    "    y = round(np.linalg.det(Y_m) / A_det)\n",
    "    z = round(np.linalg.det(Z_m) / A_det)\n",
    "    X = Matrix([[x],[y],[z]])\n",
    "    print(B)\n",
    "    print(X)\n",
    "    print(np.dot(A,X))\n",
    "    \n",
    "    if (np.dot(A,X) - B == 0).all:\n",
    "        print('Верно')\n",
    "    else:\n",
    "        print('Неверно')\n",
    "\n",
    "    print(round(x))\n",
    "    print(round(y))\n",
    "    print(round(z))"
   ]
  },
  {
   "cell_type": "markdown",
   "id": "fde327d0-bbc6-4076-abcb-66a1a41ae508",
   "metadata": {},
   "source": [
    "Упражнение 2.4"
   ]
  },
  {
   "cell_type": "code",
   "execution_count": 94,
   "id": "677a24b2-a26e-4dcc-96f3-0d68efcc6c42",
   "metadata": {},
   "outputs": [
    {
     "name": "stdout",
     "output_type": "stream",
     "text": [
      "Matrix([[13, -5], [81, 7]])\n",
      "Верно\n",
      "16\n",
      "7\n"
     ]
    }
   ],
   "source": [
    "A = Matrix([[3, -5],[ 2, 7]])\n",
    "#print(A)\n",
    "B = Matrix([[13],[ 81]])\n",
    "#print(B)\n",
    "A_det = det(A)\n",
    "#print(A_det)\n",
    "if A_det == 0:\n",
    "    print('det = 0!')\n",
    "else:\n",
    "    X_m = Matrix(A)\n",
    "    X_m[:, 0] = B\n",
    "    print(X_m)\n",
    "    Y_m = Matrix(A)\n",
    "    Y_m[:, 1] = B\n",
    "    #print(Y_m)\n",
    "#Z_m = Matrix(A)\n",
    "#Z_m[:, 2] = B\n",
    "#print(Z_m)\n",
    "    x = round(det(X_m) / A_det)\n",
    "    y = round(det(Y_m) / A_det)\n",
    "    X = Matrix([[x],[y]])\n",
    "    #print(np.dot(A,X) - B == 0)\n",
    "    if (A@X == B):\n",
    "        print('Верно')\n",
    "    else:\n",
    "        print('Неверно')\n",
    "#z = det(Z_m) / A_det\n",
    "    print(x)\n",
    "    print(y)\n",
    "#print(z)\n",
    "#print(np.dot(A,x)-B == 0)"
   ]
  },
  {
   "cell_type": "code",
   "execution_count": 40,
   "id": "c125956d-c837-4a69-a4b1-7c2ff479ab16",
   "metadata": {},
   "outputs": [
    {
     "name": "stdout",
     "output_type": "stream",
     "text": [
      "det = 0!\n"
     ]
    }
   ],
   "source": [
    "A = Matrix([[3, -4],[ -6, 8]])\n",
    "#print(A)\n",
    "B = Matrix([[-6],[ 12]])\n",
    "#print(B)\n",
    "A_det = det(A)\n",
    "#print(A_det)\n",
    "if A_det == 0:\n",
    "    print('det = 0!')\n",
    "else:\n",
    "    X_m = Matrix(A)\n",
    "    X_m[:, 0] = B\n",
    "    print(X_m)\n",
    "    Y_m = Matrix(A)\n",
    "    Y_m[:, 1] = B\n",
    "#print(Y_m)\n",
    "#Z_m = Matrix(A)\n",
    "#Z_m[:, 2] = B\n",
    "#print(Z_m)\n",
    "    x = round(det(X_m) / A_det)\n",
    "    y = round(det(Y_m) / A_det)\n",
    "    X = Matrix([[x],[y]])\n",
    "    if (np.dot(A,X) - B == 0).all:\n",
    "        print('Верно')\n",
    "    else:\n",
    "        print('Неверно')\n",
    "    #z = det(Z_m) / A_det\n",
    "    print(x)\n",
    "    print(y)\n",
    "#print(z)\n",
    "#print(np.dot(A,x)-B == 0)"
   ]
  },
  {
   "cell_type": "code",
   "execution_count": 93,
   "id": "21cba6d7-8b01-452b-9536-5276723cb6e5",
   "metadata": {},
   "outputs": [
    {
     "name": "stdout",
     "output_type": "stream",
     "text": [
      "Верно\n",
      "2\n",
      "-1\n",
      "1\n"
     ]
    }
   ],
   "source": [
    "A = Matrix([[7, 2, 3],[ 5, -3, 2], [10, -11, 5]])\n",
    "B = Matrix([[15],[ 15],[36]])\n",
    "A_det = det(A)\n",
    "if A_det == 0:\n",
    "    print('det = 0!')\n",
    "else:\n",
    "    X_m = Matrix(A)\n",
    "    X_m[:, 0] = B\n",
    "    #print(X_m)\n",
    "    Y_m = Matrix(A)\n",
    "    Y_m[:, 1] = B\n",
    "    Z_m = Matrix(A)\n",
    "    Z_m[:, 2] = B\n",
    "    x = round(det(X_m) / A_det)\n",
    "    y = round(det(Y_m) / A_det)\n",
    "    z = round(det(Z_m) / A_det)\n",
    "    X = Matrix([[x],[y],[z]])\n",
    "    if (A@X == B):\n",
    "        print('Верно')\n",
    "    else:\n",
    "        print('Неверно')\n",
    "    print(x)\n",
    "    print(y)\n",
    "    print(z)"
   ]
  },
  {
   "cell_type": "code",
   "execution_count": 91,
   "id": "6ea21ebc-2061-4ec8-900f-a318259a11ad",
   "metadata": {},
   "outputs": [
    {
     "name": "stdout",
     "output_type": "stream",
     "text": [
      "Matrix([[1], [3], [5]])\n",
      "Matrix([[5], [16], [10]])\n",
      "Верно\n",
      "1\n",
      "3\n",
      "5\n"
     ]
    }
   ],
   "source": [
    "A = Matrix([[2, 1, 0],[ 1, 0, 3], [0, 5, -1]])\n",
    "#print(A)\n",
    "B = Matrix([[5],[16],[10]])\n",
    "#print(B)\n",
    "A_det = det(A)\n",
    "#print(A_det)\n",
    "if A_det == 0:\n",
    "    print('det = 0!')\n",
    "else:\n",
    "    X_m = Matrix(A)\n",
    "    X_m[:, 0] = B\n",
    "#print(X_m)\n",
    "    Y_m = Matrix(A)\n",
    "    Y_m[:, 1] = B\n",
    "#print(Y_m)\n",
    "    Z_m = Matrix(A)\n",
    "    Z_m[:, 2] = B\n",
    "#print(Z_m)\n",
    "    x = round(det(X_m) / A_det)\n",
    "    y = round(det(Y_m) / A_det)\n",
    "    z = round(det(Z_m) / A_det)\n",
    "    X = Matrix([[x],[y],[z]])\n",
    "    print(X)\n",
    "    #print(np.dot(A,X))\n",
    "    print(B)\n",
    "    #print(np.dot(A,X) - B.transpose()== 0)\n",
    "    if (A@X == B):\n",
    "        print('Верно')\n",
    "    else:\n",
    "        print('Неверно')\n",
    "print(x)\n",
    "print(y)\n",
    "print(z)\n",
    "#print(np.dot(A,x)-B == 0)\n",
    "\n",
    "#Ошибка с Sympy"
   ]
  },
  {
   "cell_type": "markdown",
   "id": "56ece640-ff7f-4bda-aab9-1735523d3956",
   "metadata": {},
   "source": [
    "Упражнение 2.5"
   ]
  },
  {
   "cell_type": "code",
   "execution_count": 57,
   "id": "3370e5d4-e7f0-4af2-ad73-fbd86bc6f42d",
   "metadata": {},
   "outputs": [
    {
     "name": "stdout",
     "output_type": "stream",
     "text": [
      "Верно\n"
     ]
    }
   ],
   "source": [
    "A = np.matrix('3 -1 2; 1 4 -1; 2 3 1')\n",
    "B = np.matrix('-4; 10; 8')\n",
    "#print(A)\n",
    "#print(B)\n",
    "A_inv = np.linalg.inv(A)\n",
    "#print(A_inv)\n",
    "X = A_inv.dot(B)\n",
    "X\n",
    "if (np.dot(A,X) - B == 0).all:\n",
    "    print('Верно')\n",
    "else:\n",
    "    print('Неверно')"
   ]
  },
  {
   "cell_type": "code",
   "execution_count": 82,
   "id": "87a121d5-ba66-43bb-9fa3-1ee916ff7c0e",
   "metadata": {},
   "outputs": [
    {
     "name": "stdout",
     "output_type": "stream",
     "text": [
      "[[16.]\n",
      " [ 7.]]\n",
      "Верно\n"
     ]
    }
   ],
   "source": [
    "A = np.matrix('3 -5 ; 2 7 ')\n",
    "B = np.matrix('13; 81')\n",
    "#print(A)\n",
    "#print(B)\n",
    "A_inv = np.linalg.inv(A)\n",
    "#print(A_inv)\n",
    "X = A_inv.dot(B)\n",
    "print(X)\n",
    "if (np.dot(A,X) - B == 0).all:\n",
    "    print('Верно')\n",
    "else:\n",
    "    print('Неверно')"
   ]
  },
  {
   "cell_type": "code",
   "execution_count": 77,
   "id": "d1ce38dd-fecb-4d93-a729-266a2fd71515",
   "metadata": {},
   "outputs": [
    {
     "name": "stdout",
     "output_type": "stream",
     "text": [
      "det = 0!\n"
     ]
    }
   ],
   "source": [
    "A = np.matrix('3 -4 ; -6 8 ')\n",
    "B = np.matrix('-6; 12')\n",
    "#print(A)\n",
    "#print(B)\n",
    "if np.linalg.det(A) == 0:\n",
    "    print('det = 0!')\n",
    "\n",
    "#print(A_inv)\n",
    "else:\n",
    "    A_inv = np.linalg.inv(A)\n",
    "    X = A_inv.dot(B)\n",
    "    print(X)\n",
    "    if (np.dot(A,X) - B == 0).all:\n",
    "        print('Верно')\n",
    "    else:\n",
    "        print('Неверно')"
   ]
  },
  {
   "cell_type": "code",
   "execution_count": 83,
   "id": "d9393204-f7de-4e3d-a1ef-c904e6783b09",
   "metadata": {},
   "outputs": [
    {
     "name": "stdout",
     "output_type": "stream",
     "text": [
      "[[ 2.]\n",
      " [-1.]\n",
      " [ 1.]]\n",
      "Верно\n"
     ]
    }
   ],
   "source": [
    "A = np.matrix('7 2 3; 5 -3 2; 10 -11 5')\n",
    "B = np.matrix('15; 15; 36')\n",
    "#print(A)\n",
    "#print(B)\n",
    "A_inv = np.linalg.inv(A)\n",
    "#print(A_inv)\n",
    "X = A_inv.dot(B)\n",
    "print(X)\n",
    "if (np.dot(A,X) - B == 0).all:\n",
    "    print('Верно')\n",
    "else:\n",
    "    print('Неверно')"
   ]
  },
  {
   "cell_type": "code",
   "execution_count": 85,
   "id": "99ffc5cf-70ec-4a91-9211-6cbeca682657",
   "metadata": {},
   "outputs": [
    {
     "name": "stdout",
     "output_type": "stream",
     "text": [
      "[[1.]\n",
      " [3.]\n",
      " [5.]]\n",
      "Верно\n"
     ]
    }
   ],
   "source": [
    "A = np.matrix('2 1 0; 1 0 3;0 5 -1')\n",
    "B = np.matrix('5; 16; 10')\n",
    "#print(A)\n",
    "#print(B)\n",
    "A_inv = np.linalg.inv(A)\n",
    "#print(A_inv)\n",
    "X = A_inv.dot(B)\n",
    "print(X)\n",
    "if (np.dot(A,X) - B == 0).all:\n",
    "    print('Верно')\n",
    "else:\n",
    "    print('Неверно')"
   ]
  },
  {
   "cell_type": "code",
   "execution_count": null,
   "id": "edf2fa57-4ca5-4890-9424-b647c5bfb6f1",
   "metadata": {},
   "outputs": [],
   "source": []
  }
 ],
 "metadata": {
  "kernelspec": {
   "display_name": "Python 3 (ipykernel)",
   "language": "python",
   "name": "python3"
  },
  "language_info": {
   "codemirror_mode": {
    "name": "ipython",
    "version": 3
   },
   "file_extension": ".py",
   "mimetype": "text/x-python",
   "name": "python",
   "nbconvert_exporter": "python",
   "pygments_lexer": "ipython3",
   "version": "3.10.8"
  }
 },
 "nbformat": 4,
 "nbformat_minor": 5
}
